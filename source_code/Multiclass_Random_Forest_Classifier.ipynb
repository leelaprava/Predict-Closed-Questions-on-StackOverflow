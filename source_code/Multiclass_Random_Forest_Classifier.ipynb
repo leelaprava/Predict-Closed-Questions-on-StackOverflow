{
 "cells": [
  {
   "cell_type": "markdown",
   "metadata": {
    "collapsed": false
   },
   "source": [
    "# Prediction of Closed Questions on StackOverflow"
   ]
  },
  {
   "cell_type": "code",
   "execution_count": 2,
   "metadata": {
    "collapsed": false
   },
   "outputs": [],
   "source": [
    "%matplotlib notebook\n",
    "import numpy as np\n",
    "import pandas as pd\n",
    "import seaborn as sn\n",
    "import matplotlib.pyplot as plt\n",
    "import numpy as np\n",
    "from sklearn.cross_validation import train_test_split\n",
    "from sklearn.datasets import make_classification, make_blobs\n",
    "from matplotlib.colors import ListedColormap\n",
    "from sklearn.datasets import load_breast_cancer\n",
    "from sklearn.ensemble import RandomForestClassifier\n",
    "import time\n",
    "import pickle"
   ]
  },
  {
   "cell_type": "markdown",
   "metadata": {},
   "source": [
    "#### Statuses "
   ]
  },
  {
   "cell_type": "code",
   "execution_count": null,
   "metadata": {
    "collapsed": true
   },
   "outputs": [],
   "source": [
    "statuses = ['not a real question', 'not constructive', 'off topic', 'open', 'too localized']"
   ]
  },
  {
   "cell_type": "markdown",
   "metadata": {},
   "source": [
    "####  Function `set_binary` to convert the Multiclass Labels to Binary Labels"
   ]
  },
  {
   "cell_type": "code",
   "execution_count": null,
   "metadata": {
    "collapsed": true
   },
   "outputs": [],
   "source": [
    "def set_binary(row):\n",
    "    if row == 3:\n",
    "        return 0\n",
    "    else :\n",
    "        return 1"
   ]
  },
  {
   "cell_type": "markdown",
   "metadata": {},
   "source": [
    "### Data to use for Training and Validation"
   ]
  },
  {
   "cell_type": "markdown",
   "metadata": {},
   "source": [
    "1: Balanced Dataset\n",
    "    \n",
    "2: Unbalanced Dataset\n",
    "\n",
    "3: Undersampled Dataset"
   ]
  },
  {
   "cell_type": "code",
   "execution_count": 3,
   "metadata": {
    "collapsed": true
   },
   "outputs": [],
   "source": [
    "data_to_use = 2"
   ]
  },
  {
   "cell_type": "markdown",
   "metadata": {},
   "source": [
    "# Balanced Dataset"
   ]
  },
  {
   "cell_type": "markdown",
   "metadata": {},
   "source": [
    "It contains 50% Open and 50% Closed .i.e,\n",
    "89176 closed & 89176 open records"
   ]
  },
  {
   "cell_type": "code",
   "execution_count": null,
   "metadata": {
    "collapsed": true
   },
   "outputs": [],
   "source": [
    "if(data_to_use == 1 ):\n",
    "    \n",
    "    raw_features=pd.read_csv('data/data_small.csv')  #('feature_small_final.csv')\n",
    "    raw_features=raw_features.drop('Unnamed: 0',axis=1)\n",
    "    # change comments to switch between binary and non binary labels\n",
    "    y = raw_features['label']#.apply(set_binary)\n",
    "    raw_features = raw_features.drop('label',axis=1)\n",
    "    X = raw_features.as_matrix()"
   ]
  },
  {
   "cell_type": "markdown",
   "metadata": {},
   "source": [
    "# Imbalanced Dataset"
   ]
  },
  {
   "cell_type": "markdown",
   "metadata": {},
   "source": [
    "Total Records:\n",
    "\n",
    "Closed: 89176 \n",
    "\n",
    "Open  : "
   ]
  },
  {
   "cell_type": "code",
   "execution_count": 4,
   "metadata": {
    "collapsed": false
   },
   "outputs": [],
   "source": [
    "if(data_to_use == 2 ):\n",
    "    \n",
    "    raw_features1=pd.read_csv('data/data_large.csv')  #('feature_large_final.csv')\n",
    "    raw_features1=raw_features1.drop('Unnamed: 0',axis=1)\n",
    "\n",
    "    y=raw_features1['label']    #.apply(set_binary)   #.values\n",
    "    raw_features=raw_features1.drop('label',axis=1)\n",
    "    X=raw_features.as_matrix()"
   ]
  },
  {
   "cell_type": "markdown",
   "metadata": {},
   "source": [
    "# Undersampling the Large Imbalanced Dataset"
   ]
  },
  {
   "cell_type": "code",
   "execution_count": null,
   "metadata": {
    "collapsed": true
   },
   "outputs": [],
   "source": [
    "if(data_to_use == 3):\n",
    "    raw_features1=pd.read_csv('data/data_large.csv')\n",
    "    raw_features1=raw_features1.drop('Unnamed: 0',axis=1)"
   ]
  },
  {
   "cell_type": "code",
   "execution_count": null,
   "metadata": {
    "collapsed": false
   },
   "outputs": [],
   "source": [
    "if(data_to_use == 3):\n",
    "\n",
    "    from collections import Counter\n",
    "    from imblearn.under_sampling import RandomUnderSampler\n",
    "    import math\n",
    "\n",
    "    def plot_pie(y):\n",
    "        target_stats = Counter(y)\n",
    "        labels = list(target_stats.keys())\n",
    "        sizes = list(target_stats.values())\n",
    "        explode = tuple([0.1] * len(target_stats))\n",
    "\n",
    "        fig, ax = plt.subplots()\n",
    "        ax.pie(sizes, explode=explode, labels=labels, shadow=True,\n",
    "               autopct='%1.1f%%')\n",
    "        ax.axis('equal')\n",
    "\n",
    "    Y_ = raw_features1['label']  \n",
    "    X_ = raw_features1.drop('label',axis=1)\n",
    "\n",
    "    #ratio = 'auto'\n",
    "    \n",
    "    \n",
    "    # r is the fraction of open records in the required complete data\n",
    "    f = 1/2\n",
    "    \n",
    "    \n",
    "    m = f/(1-f)\n",
    "    ratio = {0: math.ceil(Counter(Y_)[1]*m), 1: Counter(Y_)[1]}\n",
    "    X_res, y_res = RandomUnderSampler(ratio=ratio, random_state=0).fit_sample(X_, Y_)\n",
    "\n",
    "    y=y_res\n",
    "\n",
    "    X=X_res\n",
    "\n",
    "    print('Information of the big data set after balancing using \"auto\"'\n",
    "          ' mode:\\n ratio={} \\n y: {}'.format(ratio, Counter(y_res)))\n",
    "    plot_pie(y_res)"
   ]
  },
  {
   "cell_type": "markdown",
   "metadata": {},
   "source": [
    "## Splitting the Data into train and test."
   ]
  },
  {
   "cell_type": "code",
   "execution_count": 5,
   "metadata": {
    "collapsed": false
   },
   "outputs": [],
   "source": [
    "X_train, X_test, y_train, y_test = train_test_split(X,y,test_size=0.2,random_state = 6)"
   ]
  },
  {
   "cell_type": "code",
   "execution_count": null,
   "metadata": {
    "collapsed": false
   },
   "outputs": [],
   "source": [
    "print(sum(y_train))\n",
    "print((y_train.shape))"
   ]
  },
  {
   "cell_type": "code",
   "execution_count": null,
   "metadata": {
    "collapsed": true
   },
   "outputs": [],
   "source": [
    "# X_train=None\n",
    "# y_train=None"
   ]
  },
  {
   "cell_type": "code",
   "execution_count": null,
   "metadata": {
    "collapsed": true
   },
   "outputs": [],
   "source": []
  },
  {
   "cell_type": "markdown",
   "metadata": {},
   "source": [
    "## Random Forest Classifier"
   ]
  },
  {
   "cell_type": "code",
   "execution_count": 6,
   "metadata": {
    "collapsed": false,
    "scrolled": false
   },
   "outputs": [
    {
     "name": "stdout",
     "output_type": "stream",
     "text": [
      "78.19511818885803\n"
     ]
    }
   ],
   "source": [
    "start = time.time()\n",
    "clf = RandomForestClassifier(n_estimators=100,n_jobs=-1).fit(X_train, y_train)\n",
    "end = time.time()\n",
    "print(end - start)"
   ]
  },
  {
   "cell_type": "code",
   "execution_count": null,
   "metadata": {
    "collapsed": true
   },
   "outputs": [],
   "source": [
    "# pickle.dump(clf, open('rf_classifier_lg.pkl', 'wb'))"
   ]
  },
  {
   "cell_type": "code",
   "execution_count": null,
   "metadata": {
    "collapsed": false
   },
   "outputs": [],
   "source": [
    "# some time later...\n",
    " \n",
    "# load the model from disk\n",
    "# clf = pickle.load(open('rf_classifier_lg.pkl', 'rb'))"
   ]
  },
  {
   "cell_type": "code",
   "execution_count": null,
   "metadata": {
    "collapsed": true
   },
   "outputs": [],
   "source": []
  },
  {
   "cell_type": "code",
   "execution_count": 7,
   "metadata": {
    "collapsed": false
   },
   "outputs": [
    {
     "name": "stdout",
     "output_type": "stream",
     "text": [
      "Accuracy of RF classifier on test set: 0.97530\n"
     ]
    }
   ],
   "source": [
    "#print('Accuracy of RF classifier on training set: {:.5f}'.format(clf.score(X_train, y_train)))\n",
    "print('Accuracy of RF classifier on test set: {:.5f}'.format(clf.score(X_test, y_test)))"
   ]
  },
  {
   "cell_type": "code",
   "execution_count": 8,
   "metadata": {
    "collapsed": true
   },
   "outputs": [],
   "source": [
    "y_predicted = clf.predict(X_test)"
   ]
  },
  {
   "cell_type": "markdown",
   "metadata": {},
   "source": [
    "#### Creating Confusion Matrix and Measuring Prescision Recall"
   ]
  },
  {
   "cell_type": "code",
   "execution_count": 9,
   "metadata": {
    "collapsed": false
   },
   "outputs": [
    {
     "data": {
      "text/plain": [
       "array([[    49,      6,      5,   7687,      3],\n",
       "       [     9,      1,      0,   4139,      0],\n",
       "       [    11,      3,      3,   4129,      1],\n",
       "       [   241,     39,     77, 714812,     14],\n",
       "       [     2,      0,      0,   1740,      1]])"
      ]
     },
     "execution_count": 9,
     "metadata": {},
     "output_type": "execute_result"
    }
   ],
   "source": [
    "from sklearn.metrics import confusion_matrix\n",
    "confusion = confusion_matrix(y_test, y_predicted)\n",
    "confusion"
   ]
  },
  {
   "cell_type": "markdown",
   "metadata": {},
   "source": [
    "##### Calculating Class Probabilities"
   ]
  },
  {
   "cell_type": "code",
   "execution_count": 10,
   "metadata": {
    "collapsed": true
   },
   "outputs": [],
   "source": [
    "y_proba = clf.predict_proba(X_test)"
   ]
  },
  {
   "cell_type": "code",
   "execution_count": 11,
   "metadata": {
    "collapsed": false
   },
   "outputs": [
    {
     "data": {
      "text/plain": [
       "(732972, 5)"
      ]
     },
     "execution_count": 11,
     "metadata": {},
     "output_type": "execute_result"
    }
   ],
   "source": [
    "y_proba.shape"
   ]
  },
  {
   "cell_type": "markdown",
   "metadata": {},
   "source": [
    "#### Calculating Loss Function"
   ]
  },
  {
   "cell_type": "code",
   "execution_count": 12,
   "metadata": {
    "collapsed": true
   },
   "outputs": [],
   "source": [
    "import sys, csv\n",
    "from math import log"
   ]
  },
  {
   "cell_type": "code",
   "execution_count": 13,
   "metadata": {
    "collapsed": false
   },
   "outputs": [
    {
     "data": {
      "text/plain": [
       "array([ 0.  ,  0.  ,  0.  ,  0.99,  0.01])"
      ]
     },
     "execution_count": 13,
     "metadata": {},
     "output_type": "execute_result"
    }
   ],
   "source": [
    "y_proba[0]"
   ]
  },
  {
   "cell_type": "code",
   "execution_count": 14,
   "metadata": {
    "collapsed": false
   },
   "outputs": [],
   "source": [
    "# logs = []\n",
    "# n = 0\n",
    "\n",
    "# for true_index in y_test.values:    \n",
    "#     prediction_for_true = y_proba[n][true_index]\n",
    "#     # print prediction_for_true\n",
    "#     log_p = log( float( prediction_for_true))\n",
    "#     logs.append( log_p )\n",
    "#     n += 1\n",
    "\n",
    "# logs = sum( logs )\n",
    "# logloss = - logs / n * 1.0\n",
    "\n",
    "# print(logloss)\n",
    "# print()"
   ]
  },
  {
   "cell_type": "code",
   "execution_count": null,
   "metadata": {
    "collapsed": true
   },
   "outputs": [],
   "source": []
  },
  {
   "cell_type": "code",
   "execution_count": 15,
   "metadata": {
    "collapsed": false
   },
   "outputs": [],
   "source": [
    "from sklearn.metrics import log_loss"
   ]
  },
  {
   "cell_type": "code",
   "execution_count": 16,
   "metadata": {
    "collapsed": false
   },
   "outputs": [
    {
     "data": {
      "text/plain": [
       "0.42707425649152736"
      ]
     },
     "execution_count": 16,
     "metadata": {},
     "output_type": "execute_result"
    }
   ],
   "source": [
    "log_loss(y_test.values,y_proba)"
   ]
  },
  {
   "cell_type": "code",
   "execution_count": null,
   "metadata": {
    "collapsed": true
   },
   "outputs": [],
   "source": []
  }
 ],
 "metadata": {
  "anaconda-cloud": {},
  "kernelspec": {
   "display_name": "Python [conda root]",
   "language": "python",
   "name": "conda-root-py"
  },
  "language_info": {
   "codemirror_mode": {
    "name": "ipython",
    "version": 3
   },
   "file_extension": ".py",
   "mimetype": "text/x-python",
   "name": "python",
   "nbconvert_exporter": "python",
   "pygments_lexer": "ipython3",
   "version": "3.5.2"
  }
 },
 "nbformat": 4,
 "nbformat_minor": 0
}
