{
 "cells": [
  {
   "cell_type": "markdown",
   "metadata": {},
   "source": [
    "To read raw predictions made by vowpal wabbit and then, compute and normalize probabilities\n",
    "\n",
    "This notebook has to be run only after training the *.vw file using Vowpal Wabbit classifier on the terminal\n",
    "and then predicting the outcome on the test labels as explained in the readme file"
   ]
  },
  {
   "cell_type": "code",
   "execution_count": 9,
   "metadata": {
    "collapsed": false
   },
   "outputs": [],
   "source": [
    "import sys, csv, math\n",
    "\n",
    "def sigmoid(x):\n",
    "    return 1 / (1 + math.exp(-x))\n",
    "  \n",
    "def normalize( predictions ):\n",
    "    s = sum( predictions )\n",
    "    normalized = []\n",
    "    for p in predictions:\n",
    "        normalized.append( p / s )\n",
    "    return normalized  \n",
    "  \n",
    "###  \n",
    "\n",
    "# input_file = \"raw_predictions_small.txt\"\n",
    "# output_file = \"predictions_small.txt\"\n",
    "  \n",
    "input_file = \"raw_predictions_large.txt\"\n",
    "output_file = \"predictions_large.txt\"\n",
    "\n",
    "i = open( input_file )\n",
    "o = open( output_file, 'w' )\n",
    "\n",
    "reader = csv.reader( i, delimiter = \" \" )\n",
    "writer = csv.writer( o )\n",
    "\n",
    "for line in reader:\n",
    "\n",
    "    \n",
    "    \n",
    "    probs = []\n",
    "    num=0\n",
    "    for element in line:\n",
    "        num +=1\n",
    "        if(num<=5):\n",
    "            prediction = element.split( \":\" )[1]\n",
    "            prob = sigmoid( float( prediction ))\n",
    "            probs.append( prob )\n",
    "\n",
    "    new_line = normalize( probs )\n",
    "\n",
    "    writer.writerow(  new_line )"
   ]
  },
  {
   "cell_type": "markdown",
   "metadata": {},
   "source": [
    "Calculating the log loss value"
   ]
  },
  {
   "cell_type": "code",
   "execution_count": 3,
   "metadata": {
    "collapsed": true
   },
   "outputs": [],
   "source": [
    "from sklearn.metrics import log_loss\n",
    "import numpy as np"
   ]
  },
  {
   "cell_type": "markdown",
   "metadata": {},
   "source": [
    "\n",
    "### Small Data"
   ]
  },
  {
   "cell_type": "code",
   "execution_count": 3,
   "metadata": {
    "collapsed": false
   },
   "outputs": [],
   "source": [
    "# y_prob = np.loadtxt(open(\"predictions_small.txt\", \"r\"), delimiter=\",\", skiprows=0)"
   ]
  },
  {
   "cell_type": "code",
   "execution_count": 4,
   "metadata": {
    "collapsed": false
   },
   "outputs": [
    {
     "data": {
      "text/plain": [
       "array([ 0.,  1.,  2.,  3.,  4.])"
      ]
     },
     "execution_count": 4,
     "metadata": {},
     "output_type": "execute_result"
    }
   ],
   "source": [
    "# y_test = np.loadtxt(open(\"test_small_true_labels.csv\", \"r\"), delimiter=\",\", skiprows=0)\n",
    "# y_test = np.delete(y_test,0,1)\n",
    "# np.unique(y_test)"
   ]
  },
  {
   "cell_type": "code",
   "execution_count": 5,
   "metadata": {
    "collapsed": false
   },
   "outputs": [
    {
     "data": {
      "text/plain": [
       "1.2016763930190684"
      ]
     },
     "execution_count": 5,
     "metadata": {},
     "output_type": "execute_result"
    }
   ],
   "source": [
    "# log_loss(y_test,y_prob)"
   ]
  },
  {
   "cell_type": "markdown",
   "metadata": {},
   "source": [
    "### Large Data"
   ]
  },
  {
   "cell_type": "code",
   "execution_count": 4,
   "metadata": {
    "collapsed": false
   },
   "outputs": [],
   "source": [
    "y_prob = np.loadtxt(open(\"predictions_large.txt\", \"r\"), delimiter=\",\", skiprows=0)"
   ]
  },
  {
   "cell_type": "code",
   "execution_count": 5,
   "metadata": {
    "collapsed": false
   },
   "outputs": [
    {
     "data": {
      "text/plain": [
       "array([ 0.,  1.,  2.,  3.,  4.])"
      ]
     },
     "execution_count": 5,
     "metadata": {},
     "output_type": "execute_result"
    }
   ],
   "source": [
    "y_test = np.loadtxt(open(\"test_large_true_labels.csv\", \"r\"), delimiter=\",\", skiprows=0)\n",
    "y_test = np.delete(y_test,0,1)\n",
    "np.unique(y_test)"
   ]
  },
  {
   "cell_type": "code",
   "execution_count": 12,
   "metadata": {
    "collapsed": false
   },
   "outputs": [
    {
     "data": {
      "text/plain": [
       "0.13873006386508482"
      ]
     },
     "execution_count": 12,
     "metadata": {},
     "output_type": "execute_result"
    }
   ],
   "source": [
    "log_loss(y_test,y_prob)"
   ]
  }
 ],
 "metadata": {
  "anaconda-cloud": {},
  "kernelspec": {
   "display_name": "Python [conda root]",
   "language": "python",
   "name": "conda-root-py"
  },
  "language_info": {
   "codemirror_mode": {
    "name": "ipython",
    "version": 3
   },
   "file_extension": ".py",
   "mimetype": "text/x-python",
   "name": "python",
   "nbconvert_exporter": "python",
   "pygments_lexer": "ipython3",
   "version": "3.5.2"
  }
 },
 "nbformat": 4,
 "nbformat_minor": 1
}
