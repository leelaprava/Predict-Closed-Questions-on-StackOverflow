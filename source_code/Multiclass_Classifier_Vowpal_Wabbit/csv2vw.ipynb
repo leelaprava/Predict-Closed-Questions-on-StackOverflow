{
 "cells": [
  {
   "cell_type": "markdown",
   "metadata": {},
   "source": [
    "Creating test and train from the raw data"
   ]
  },
  {
   "cell_type": "code",
   "execution_count": 44,
   "metadata": {
    "collapsed": true
   },
   "outputs": [],
   "source": [
    "import pandas as pd\n",
    "from sklearn.cross_validation import train_test_split"
   ]
  },
  {
   "cell_type": "code",
   "execution_count": null,
   "metadata": {
    "collapsed": true
   },
   "outputs": [],
   "source": [
    "input_file = '../data/data_large.csv'\n",
    "output_train_file = 'train_large.csv'\n",
    "output_test_file = 'test_large.csv'\n",
    "output_test_label_file = 'test_large_true_labels.csv'"
   ]
  },
  {
   "cell_type": "code",
   "execution_count": 45,
   "metadata": {
    "collapsed": false
   },
   "outputs": [],
   "source": [
    "raw_features=pd.read_csv(input_file).drop('Unnamed: 0',axis=1)\n",
    "y = raw_features['label']\n",
    "X = raw_features.drop('label',axis=1)"
   ]
  },
  {
   "cell_type": "code",
   "execution_count": 46,
   "metadata": {
    "collapsed": false
   },
   "outputs": [],
   "source": [
    "X_train, X_test, y_train, y_test = train_test_split(X,y,test_size=0.2,random_state = 6)"
   ]
  },
  {
   "cell_type": "code",
   "execution_count": 47,
   "metadata": {
    "collapsed": false
   },
   "outputs": [],
   "source": [
    "# train csv file with labels\n",
    "pd.concat([X_train,y_train],axis=1).to_csv(output_train_file)"
   ]
  },
  {
   "cell_type": "markdown",
   "metadata": {},
   "source": [
    "Storing the test labels for verification"
   ]
  },
  {
   "cell_type": "code",
   "execution_count": 48,
   "metadata": {
    "collapsed": true
   },
   "outputs": [],
   "source": [
    "# test csv files without labels\n",
    "X_test.to_csv(output_test_file)\n",
    "y_test.to_csv(output_test_label_file)"
   ]
  },
  {
   "cell_type": "markdown",
   "metadata": {
    "collapsed": true
   },
   "source": [
    "# Converting the csv files to vowpal wabbit format"
   ]
  },
  {
   "cell_type": "markdown",
   "metadata": {},
   "source": [
    "Choose the file type, input and output file and comment the rest"
   ]
  },
  {
   "cell_type": "code",
   "execution_count": 57,
   "metadata": {
    "collapsed": false
   },
   "outputs": [
    {
     "name": "stdout",
     "output_type": "stream",
     "text": [
      "100000\n",
      "200000\n",
      "300000\n",
      "400000\n",
      "500000\n",
      "600000\n",
      "700000\n"
     ]
    }
   ],
   "source": [
    "import csv, re\n",
    "\n",
    "# test_label = '1'\n",
    "\n",
    "\n",
    "input_file_vw = \"train_large.csv\"\n",
    "output_file_vw = \"train_large.vw\"\n",
    "\n",
    "# input_file_vw = \"test_large.csv\"\n",
    "# output_file_vw = \"test_large.vw\"\n",
    "\n",
    "# input_file_vw = \"train_small.csv\"\n",
    "# output_file_vw = \"train_small.vw\"\n",
    "\n",
    "# input_file_vw = \"test_small.csv\"\n",
    "# output_file_vw = \"test_small.vw\"\n",
    "\n",
    "file_type_train = 1  # if file to build is test enter  file_type = 0\n",
    "\n",
    "\n",
    "reader = csv.reader( open( input_file ))\n",
    "o = open( output_file, 'w' )\n",
    "\n",
    "counter = -1\n",
    "for line in reader:\n",
    "    if counter == -1: # to skip the header\n",
    "        counter +=1\n",
    "        continue\n",
    "\n",
    "    counter += 1\n",
    "    \n",
    "    \n",
    "    # line[0] contains the row number\n",
    "    age = line[1]\n",
    "    day = line[2]\n",
    "    month = line[3]\n",
    "    year = line[4]\n",
    "    ownundel = line[5]\n",
    "    ownrep = line[6]\n",
    "    bodylen = line[7]\n",
    "    codeexists = line[8]\n",
    "    num_code = line[9]\n",
    "    coderatio = line[10]\n",
    "    hwtitle = line[11]\n",
    "    hwbody = line[12]\n",
    "    numtags = line[13]\n",
    "    hwtags = line[14]\n",
    "    \n",
    "    if file_type_train == 1:\n",
    "        label = str(float(line[15]) + 1)   # increase all the label counts by 1\n",
    "    else:\n",
    "        label = '1'  # for test label\n",
    "\n",
    "    output_line = \"%s %s\" % ( label, 1 ) \t# weight is 1\n",
    "    output_line += \"|n %s %s %s %s %s %s %s %s %s %s %s %s %s %s\" % ( age,day,month,year,ownundel,ownrep,bodylen,codeexists,num_code,coderatio,hwtitle,hwbody,numtags,hwtags )\n",
    "    output_line += \"\\n\"\n",
    "\n",
    "    o.write( output_line )\n",
    "\n",
    "    if counter % 100000 == 0:\n",
    "        print(counter)\n"
   ]
  },
  {
   "cell_type": "code",
   "execution_count": null,
   "metadata": {
    "collapsed": true
   },
   "outputs": [],
   "source": []
  }
 ],
 "metadata": {
  "anaconda-cloud": {},
  "kernelspec": {
   "display_name": "Python [conda root]",
   "language": "python",
   "name": "conda-root-py"
  },
  "language_info": {
   "codemirror_mode": {
    "name": "ipython",
    "version": 3
   },
   "file_extension": ".py",
   "mimetype": "text/x-python",
   "name": "python",
   "nbconvert_exporter": "python",
   "pygments_lexer": "ipython3",
   "version": "3.5.2"
  }
 },
 "nbformat": 4,
 "nbformat_minor": 1
}
