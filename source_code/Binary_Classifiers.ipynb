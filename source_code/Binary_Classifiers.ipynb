{
 "cells": [
  {
   "cell_type": "markdown",
   "metadata": {
    "collapsed": false
   },
   "source": [
    "# Prediction of Closed Questions on StackOverflow"
   ]
  },
  {
   "cell_type": "code",
   "execution_count": 55,
   "metadata": {
    "collapsed": false
   },
   "outputs": [],
   "source": [
    "%matplotlib notebook\n",
    "import numpy as np\n",
    "import pandas as pd\n",
    "import seaborn as sn\n",
    "import matplotlib.pyplot as plt\n",
    "import numpy as np\n",
    "from sklearn.cross_validation import train_test_split\n",
    "from sklearn.datasets import make_classification, make_blobs\n",
    "from matplotlib.colors import ListedColormap\n",
    "from sklearn.datasets import load_breast_cancer\n",
    "from sklearn.ensemble import RandomForestClassifier\n",
    "import time"
   ]
  },
  {
   "cell_type": "markdown",
   "metadata": {},
   "source": [
    "####  Function `set_binary` to convert the Multiclass Labels to Binary Labels"
   ]
  },
  {
   "cell_type": "code",
   "execution_count": 56,
   "metadata": {
    "collapsed": true
   },
   "outputs": [],
   "source": [
    "def set_binary(row):\n",
    "    if row == 3:\n",
    "        return 0\n",
    "    else :\n",
    "        return 1"
   ]
  },
  {
   "cell_type": "markdown",
   "metadata": {},
   "source": [
    "### Data to use for Training and Validation"
   ]
  },
  {
   "cell_type": "markdown",
   "metadata": {},
   "source": [
    "1: Balanced Dataset\n",
    "    \n",
    "2: Unbalanced Dataset\n",
    "\n",
    "3: Undersampled Dataset"
   ]
  },
  {
   "cell_type": "code",
   "execution_count": 57,
   "metadata": {
    "collapsed": true
   },
   "outputs": [],
   "source": [
    "data_to_use = 1"
   ]
  },
  {
   "cell_type": "markdown",
   "metadata": {},
   "source": [
    "# Balanced Dataset"
   ]
  },
  {
   "cell_type": "markdown",
   "metadata": {},
   "source": [
    "It contains 50% Open and 50% Closed .i.e,\n",
    "89176 closed & 89176 open records"
   ]
  },
  {
   "cell_type": "code",
   "execution_count": 58,
   "metadata": {
    "collapsed": true
   },
   "outputs": [],
   "source": [
    "if(data_to_use == 1 ):\n",
    "    \n",
    "    raw_features=pd.read_csv('data/data_small.csv')\n",
    "    raw_features=raw_features.drop('Unnamed: 0',axis=1)\n",
    "\n",
    "    y = raw_features['label'].apply(set_binary)\n",
    "    raw_features = raw_features.drop('label',axis=1)\n",
    "    X = raw_features.as_matrix()"
   ]
  },
  {
   "cell_type": "markdown",
   "metadata": {},
   "source": [
    "# Imbalanced Dataset"
   ]
  },
  {
   "cell_type": "markdown",
   "metadata": {},
   "source": [
    "Total Records:\n",
    "\n",
    "Closed: 89176 \n",
    "\n",
    "Open  : "
   ]
  },
  {
   "cell_type": "code",
   "execution_count": 59,
   "metadata": {
    "collapsed": true
   },
   "outputs": [],
   "source": [
    "if(data_to_use == 2 ):\n",
    "    \n",
    "    raw_features=pd.read_csv('data/data_large.csv')\n",
    "    raw_features=raw_features.drop('Unnamed: 0',axis=1)\n",
    "\n",
    "    y = raw_features['label'].apply(set_binary)\n",
    "    raw_features = raw_features.drop('label',axis=1)\n",
    "    X = raw_features.as_matrix()"
   ]
  },
  {
   "cell_type": "markdown",
   "metadata": {},
   "source": [
    "# Undersampling the Large Imbalanced Dataset"
   ]
  },
  {
   "cell_type": "code",
   "execution_count": 60,
   "metadata": {
    "collapsed": true
   },
   "outputs": [],
   "source": [
    "if(data_to_use == 3):\n",
    "    raw_features=pd.read_csv('data/data_large.csv')\n",
    "    raw_features=raw_features.drop('Unnamed: 0',axis=1)"
   ]
  },
  {
   "cell_type": "code",
   "execution_count": 61,
   "metadata": {
    "collapsed": false
   },
   "outputs": [],
   "source": [
    "if(data_to_use == 3):\n",
    "\n",
    "    from collections import Counter\n",
    "    from imblearn.under_sampling import RandomUnderSampler\n",
    "    import math\n",
    "\n",
    "    def plot_pie(y):\n",
    "        target_stats = Counter(y)\n",
    "        labels = list(target_stats.keys())\n",
    "        sizes = list(target_stats.values())\n",
    "        explode = tuple([0.1] * len(target_stats))\n",
    "\n",
    "        fig, ax = plt.subplots()\n",
    "        ax.pie(sizes, explode=explode, labels=labels, shadow=True,\n",
    "               autopct='%1.1f%%')\n",
    "        ax.axis('equal')\n",
    "\n",
    "    Y_ = raw_features1['label']  \n",
    "    X_ = raw_features1.drop('label',axis=1)\n",
    "\n",
    "    #ratio = 'auto'\n",
    "    \n",
    "    \n",
    "    # r is the fraction of open records in the required complete data\n",
    "    f = 1/2\n",
    "    \n",
    "    \n",
    "    m = f/(1-f)\n",
    "    ratio = {0: math.ceil(Counter(Y_)[1]*m), 1: Counter(Y_)[1]}\n",
    "    X_res, y_res = RandomUnderSampler(ratio=ratio, random_state=0).fit_sample(X_, Y_)\n",
    "\n",
    "    y=y_res\n",
    "\n",
    "    X=X_res\n",
    "\n",
    "    print('Information of the big data set after balancing using \"auto\"'\n",
    "          ' mode:\\n ratio={} \\n y: {}'.format(ratio, Counter(y_res)))\n",
    "    plot_pie(y_res)"
   ]
  },
  {
   "cell_type": "markdown",
   "metadata": {},
   "source": [
    "## Splitting the Data into train and test."
   ]
  },
  {
   "cell_type": "code",
   "execution_count": 62,
   "metadata": {
    "collapsed": false
   },
   "outputs": [],
   "source": [
    "X_train, X_test, y_train, y_test = train_test_split(X,y,test_size=0.2,random_state = 6)"
   ]
  },
  {
   "cell_type": "markdown",
   "metadata": {},
   "source": [
    "## Random Forest Classifier"
   ]
  },
  {
   "cell_type": "code",
   "execution_count": 63,
   "metadata": {
    "collapsed": false,
    "scrolled": false
   },
   "outputs": [
    {
     "name": "stdout",
     "output_type": "stream",
     "text": [
      "1.9938011169433594\n"
     ]
    }
   ],
   "source": [
    "start = time.time()\n",
    "clf = RandomForestClassifier(n_estimators=100,max_depth=15,n_jobs=-1).fit(X_train, y_train)\n",
    "end = time.time()\n",
    "print(end - start)"
   ]
  },
  {
   "cell_type": "code",
   "execution_count": 64,
   "metadata": {
    "collapsed": false
   },
   "outputs": [
    {
     "name": "stdout",
     "output_type": "stream",
     "text": [
      "Accuracy of RF classifier on training set: 0.79757\n",
      "Accuracy of RF classifier on test set: 0.69322\n"
     ]
    }
   ],
   "source": [
    "print('Accuracy of RF classifier on training set: {:.5f}'.format(clf.score(X_train, y_train)))\n",
    "print('Accuracy of RF classifier on test set: {:.5f}'.format(clf.score(X_test, y_test)))"
   ]
  },
  {
   "cell_type": "code",
   "execution_count": 65,
   "metadata": {
    "collapsed": true
   },
   "outputs": [],
   "source": [
    "y_predicted = clf.predict(X_test)"
   ]
  },
  {
   "cell_type": "markdown",
   "metadata": {},
   "source": [
    "#### Creating Confusion Matrix and Measuring Prescision Recall"
   ]
  },
  {
   "cell_type": "code",
   "execution_count": 66,
   "metadata": {
    "collapsed": false
   },
   "outputs": [
    {
     "data": {
      "text/plain": [
       "array([[12008,  5870],\n",
       "       [ 5073, 12720]])"
      ]
     },
     "execution_count": 66,
     "metadata": {},
     "output_type": "execute_result"
    }
   ],
   "source": [
    "from sklearn.metrics import confusion_matrix\n",
    "confusion = confusion_matrix(y_test, y_predicted)\n",
    "confusion"
   ]
  },
  {
   "cell_type": "code",
   "execution_count": 67,
   "metadata": {
    "collapsed": false
   },
   "outputs": [
    {
     "name": "stdout",
     "output_type": "stream",
     "text": [
      "Average precision-recall score: 0.77\n",
      "Recall score: 0.71\n",
      "Precision score: 0.68\n"
     ]
    }
   ],
   "source": [
    "from sklearn.metrics import average_precision_score\n",
    "from sklearn.metrics import recall_score\n",
    "from sklearn.metrics import precision_score\n",
    "\n",
    "average_precision = average_precision_score(y_test, y_predicted)\n",
    "recall_sco=recall_score(y_test,y_predicted)\n",
    "precision_sco=precision_score(y_test,y_predicted)\n",
    "\n",
    "print('Average precision-recall score: {0:0.2f}'.format(average_precision))\n",
    "print('Recall score: {0:0.2f}'.format(recall_sco))\n",
    "print('Precision score: {0:0.2f}'.format(precision_sco))"
   ]
  },
  {
   "cell_type": "code",
   "execution_count": 68,
   "metadata": {
    "collapsed": false
   },
   "outputs": [
    {
     "data": {
      "application/javascript": [
       "/* Put everything inside the global mpl namespace */\n",
       "window.mpl = {};\n",
       "\n",
       "\n",
       "mpl.get_websocket_type = function() {\n",
       "    if (typeof(WebSocket) !== 'undefined') {\n",
       "        return WebSocket;\n",
       "    } else if (typeof(MozWebSocket) !== 'undefined') {\n",
       "        return MozWebSocket;\n",
       "    } else {\n",
       "        alert('Your browser does not have WebSocket support.' +\n",
       "              'Please try Chrome, Safari or Firefox ≥ 6. ' +\n",
       "              'Firefox 4 and 5 are also supported but you ' +\n",
       "              'have to enable WebSockets in about:config.');\n",
       "    };\n",
       "}\n",
       "\n",
       "mpl.figure = function(figure_id, websocket, ondownload, parent_element) {\n",
       "    this.id = figure_id;\n",
       "\n",
       "    this.ws = websocket;\n",
       "\n",
       "    this.supports_binary = (this.ws.binaryType != undefined);\n",
       "\n",
       "    if (!this.supports_binary) {\n",
       "        var warnings = document.getElementById(\"mpl-warnings\");\n",
       "        if (warnings) {\n",
       "            warnings.style.display = 'block';\n",
       "            warnings.textContent = (\n",
       "                \"This browser does not support binary websocket messages. \" +\n",
       "                    \"Performance may be slow.\");\n",
       "        }\n",
       "    }\n",
       "\n",
       "    this.imageObj = new Image();\n",
       "\n",
       "    this.context = undefined;\n",
       "    this.message = undefined;\n",
       "    this.canvas = undefined;\n",
       "    this.rubberband_canvas = undefined;\n",
       "    this.rubberband_context = undefined;\n",
       "    this.format_dropdown = undefined;\n",
       "\n",
       "    this.image_mode = 'full';\n",
       "\n",
       "    this.root = $('<div/>');\n",
       "    this._root_extra_style(this.root)\n",
       "    this.root.attr('style', 'display: inline-block');\n",
       "\n",
       "    $(parent_element).append(this.root);\n",
       "\n",
       "    this._init_header(this);\n",
       "    this._init_canvas(this);\n",
       "    this._init_toolbar(this);\n",
       "\n",
       "    var fig = this;\n",
       "\n",
       "    this.waiting = false;\n",
       "\n",
       "    this.ws.onopen =  function () {\n",
       "            fig.send_message(\"supports_binary\", {value: fig.supports_binary});\n",
       "            fig.send_message(\"send_image_mode\", {});\n",
       "            if (mpl.ratio != 1) {\n",
       "                fig.send_message(\"set_dpi_ratio\", {'dpi_ratio': mpl.ratio});\n",
       "            }\n",
       "            fig.send_message(\"refresh\", {});\n",
       "        }\n",
       "\n",
       "    this.imageObj.onload = function() {\n",
       "            if (fig.image_mode == 'full') {\n",
       "                // Full images could contain transparency (where diff images\n",
       "                // almost always do), so we need to clear the canvas so that\n",
       "                // there is no ghosting.\n",
       "                fig.context.clearRect(0, 0, fig.canvas.width, fig.canvas.height);\n",
       "            }\n",
       "            fig.context.drawImage(fig.imageObj, 0, 0);\n",
       "        };\n",
       "\n",
       "    this.imageObj.onunload = function() {\n",
       "        this.ws.close();\n",
       "    }\n",
       "\n",
       "    this.ws.onmessage = this._make_on_message_function(this);\n",
       "\n",
       "    this.ondownload = ondownload;\n",
       "}\n",
       "\n",
       "mpl.figure.prototype._init_header = function() {\n",
       "    var titlebar = $(\n",
       "        '<div class=\"ui-dialog-titlebar ui-widget-header ui-corner-all ' +\n",
       "        'ui-helper-clearfix\"/>');\n",
       "    var titletext = $(\n",
       "        '<div class=\"ui-dialog-title\" style=\"width: 100%; ' +\n",
       "        'text-align: center; padding: 3px;\"/>');\n",
       "    titlebar.append(titletext)\n",
       "    this.root.append(titlebar);\n",
       "    this.header = titletext[0];\n",
       "}\n",
       "\n",
       "\n",
       "\n",
       "mpl.figure.prototype._canvas_extra_style = function(canvas_div) {\n",
       "\n",
       "}\n",
       "\n",
       "\n",
       "mpl.figure.prototype._root_extra_style = function(canvas_div) {\n",
       "\n",
       "}\n",
       "\n",
       "mpl.figure.prototype._init_canvas = function() {\n",
       "    var fig = this;\n",
       "\n",
       "    var canvas_div = $('<div/>');\n",
       "\n",
       "    canvas_div.attr('style', 'position: relative; clear: both; outline: 0');\n",
       "\n",
       "    function canvas_keyboard_event(event) {\n",
       "        return fig.key_event(event, event['data']);\n",
       "    }\n",
       "\n",
       "    canvas_div.keydown('key_press', canvas_keyboard_event);\n",
       "    canvas_div.keyup('key_release', canvas_keyboard_event);\n",
       "    this.canvas_div = canvas_div\n",
       "    this._canvas_extra_style(canvas_div)\n",
       "    this.root.append(canvas_div);\n",
       "\n",
       "    var canvas = $('<canvas/>');\n",
       "    canvas.addClass('mpl-canvas');\n",
       "    canvas.attr('style', \"left: 0; top: 0; z-index: 0; outline: 0\")\n",
       "\n",
       "    this.canvas = canvas[0];\n",
       "    this.context = canvas[0].getContext(\"2d\");\n",
       "\n",
       "    var backingStore = this.context.backingStorePixelRatio ||\n",
       "\tthis.context.webkitBackingStorePixelRatio ||\n",
       "\tthis.context.mozBackingStorePixelRatio ||\n",
       "\tthis.context.msBackingStorePixelRatio ||\n",
       "\tthis.context.oBackingStorePixelRatio ||\n",
       "\tthis.context.backingStorePixelRatio || 1;\n",
       "\n",
       "    mpl.ratio = (window.devicePixelRatio || 1) / backingStore;\n",
       "\n",
       "    var rubberband = $('<canvas/>');\n",
       "    rubberband.attr('style', \"position: absolute; left: 0; top: 0; z-index: 1;\")\n",
       "\n",
       "    var pass_mouse_events = true;\n",
       "\n",
       "    canvas_div.resizable({\n",
       "        start: function(event, ui) {\n",
       "            pass_mouse_events = false;\n",
       "        },\n",
       "        resize: function(event, ui) {\n",
       "            fig.request_resize(ui.size.width, ui.size.height);\n",
       "        },\n",
       "        stop: function(event, ui) {\n",
       "            pass_mouse_events = true;\n",
       "            fig.request_resize(ui.size.width, ui.size.height);\n",
       "        },\n",
       "    });\n",
       "\n",
       "    function mouse_event_fn(event) {\n",
       "        if (pass_mouse_events)\n",
       "            return fig.mouse_event(event, event['data']);\n",
       "    }\n",
       "\n",
       "    rubberband.mousedown('button_press', mouse_event_fn);\n",
       "    rubberband.mouseup('button_release', mouse_event_fn);\n",
       "    // Throttle sequential mouse events to 1 every 20ms.\n",
       "    rubberband.mousemove('motion_notify', mouse_event_fn);\n",
       "\n",
       "    rubberband.mouseenter('figure_enter', mouse_event_fn);\n",
       "    rubberband.mouseleave('figure_leave', mouse_event_fn);\n",
       "\n",
       "    canvas_div.on(\"wheel\", function (event) {\n",
       "        event = event.originalEvent;\n",
       "        event['data'] = 'scroll'\n",
       "        if (event.deltaY < 0) {\n",
       "            event.step = 1;\n",
       "        } else {\n",
       "            event.step = -1;\n",
       "        }\n",
       "        mouse_event_fn(event);\n",
       "    });\n",
       "\n",
       "    canvas_div.append(canvas);\n",
       "    canvas_div.append(rubberband);\n",
       "\n",
       "    this.rubberband = rubberband;\n",
       "    this.rubberband_canvas = rubberband[0];\n",
       "    this.rubberband_context = rubberband[0].getContext(\"2d\");\n",
       "    this.rubberband_context.strokeStyle = \"#000000\";\n",
       "\n",
       "    this._resize_canvas = function(width, height) {\n",
       "        // Keep the size of the canvas, canvas container, and rubber band\n",
       "        // canvas in synch.\n",
       "        canvas_div.css('width', width)\n",
       "        canvas_div.css('height', height)\n",
       "\n",
       "        canvas.attr('width', width * mpl.ratio);\n",
       "        canvas.attr('height', height * mpl.ratio);\n",
       "        canvas.attr('style', 'width: ' + width + 'px; height: ' + height + 'px;');\n",
       "\n",
       "        rubberband.attr('width', width);\n",
       "        rubberband.attr('height', height);\n",
       "    }\n",
       "\n",
       "    // Set the figure to an initial 600x600px, this will subsequently be updated\n",
       "    // upon first draw.\n",
       "    this._resize_canvas(600, 600);\n",
       "\n",
       "    // Disable right mouse context menu.\n",
       "    $(this.rubberband_canvas).bind(\"contextmenu\",function(e){\n",
       "        return false;\n",
       "    });\n",
       "\n",
       "    function set_focus () {\n",
       "        canvas.focus();\n",
       "        canvas_div.focus();\n",
       "    }\n",
       "\n",
       "    window.setTimeout(set_focus, 100);\n",
       "}\n",
       "\n",
       "mpl.figure.prototype._init_toolbar = function() {\n",
       "    var fig = this;\n",
       "\n",
       "    var nav_element = $('<div/>')\n",
       "    nav_element.attr('style', 'width: 100%');\n",
       "    this.root.append(nav_element);\n",
       "\n",
       "    // Define a callback function for later on.\n",
       "    function toolbar_event(event) {\n",
       "        return fig.toolbar_button_onclick(event['data']);\n",
       "    }\n",
       "    function toolbar_mouse_event(event) {\n",
       "        return fig.toolbar_button_onmouseover(event['data']);\n",
       "    }\n",
       "\n",
       "    for(var toolbar_ind in mpl.toolbar_items) {\n",
       "        var name = mpl.toolbar_items[toolbar_ind][0];\n",
       "        var tooltip = mpl.toolbar_items[toolbar_ind][1];\n",
       "        var image = mpl.toolbar_items[toolbar_ind][2];\n",
       "        var method_name = mpl.toolbar_items[toolbar_ind][3];\n",
       "\n",
       "        if (!name) {\n",
       "            // put a spacer in here.\n",
       "            continue;\n",
       "        }\n",
       "        var button = $('<button/>');\n",
       "        button.addClass('ui-button ui-widget ui-state-default ui-corner-all ' +\n",
       "                        'ui-button-icon-only');\n",
       "        button.attr('role', 'button');\n",
       "        button.attr('aria-disabled', 'false');\n",
       "        button.click(method_name, toolbar_event);\n",
       "        button.mouseover(tooltip, toolbar_mouse_event);\n",
       "\n",
       "        var icon_img = $('<span/>');\n",
       "        icon_img.addClass('ui-button-icon-primary ui-icon');\n",
       "        icon_img.addClass(image);\n",
       "        icon_img.addClass('ui-corner-all');\n",
       "\n",
       "        var tooltip_span = $('<span/>');\n",
       "        tooltip_span.addClass('ui-button-text');\n",
       "        tooltip_span.html(tooltip);\n",
       "\n",
       "        button.append(icon_img);\n",
       "        button.append(tooltip_span);\n",
       "\n",
       "        nav_element.append(button);\n",
       "    }\n",
       "\n",
       "    var fmt_picker_span = $('<span/>');\n",
       "\n",
       "    var fmt_picker = $('<select/>');\n",
       "    fmt_picker.addClass('mpl-toolbar-option ui-widget ui-widget-content');\n",
       "    fmt_picker_span.append(fmt_picker);\n",
       "    nav_element.append(fmt_picker_span);\n",
       "    this.format_dropdown = fmt_picker[0];\n",
       "\n",
       "    for (var ind in mpl.extensions) {\n",
       "        var fmt = mpl.extensions[ind];\n",
       "        var option = $(\n",
       "            '<option/>', {selected: fmt === mpl.default_extension}).html(fmt);\n",
       "        fmt_picker.append(option)\n",
       "    }\n",
       "\n",
       "    // Add hover states to the ui-buttons\n",
       "    $( \".ui-button\" ).hover(\n",
       "        function() { $(this).addClass(\"ui-state-hover\");},\n",
       "        function() { $(this).removeClass(\"ui-state-hover\");}\n",
       "    );\n",
       "\n",
       "    var status_bar = $('<span class=\"mpl-message\"/>');\n",
       "    nav_element.append(status_bar);\n",
       "    this.message = status_bar[0];\n",
       "}\n",
       "\n",
       "mpl.figure.prototype.request_resize = function(x_pixels, y_pixels) {\n",
       "    // Request matplotlib to resize the figure. Matplotlib will then trigger a resize in the client,\n",
       "    // which will in turn request a refresh of the image.\n",
       "    this.send_message('resize', {'width': x_pixels, 'height': y_pixels});\n",
       "}\n",
       "\n",
       "mpl.figure.prototype.send_message = function(type, properties) {\n",
       "    properties['type'] = type;\n",
       "    properties['figure_id'] = this.id;\n",
       "    this.ws.send(JSON.stringify(properties));\n",
       "}\n",
       "\n",
       "mpl.figure.prototype.send_draw_message = function() {\n",
       "    if (!this.waiting) {\n",
       "        this.waiting = true;\n",
       "        this.ws.send(JSON.stringify({type: \"draw\", figure_id: this.id}));\n",
       "    }\n",
       "}\n",
       "\n",
       "\n",
       "mpl.figure.prototype.handle_save = function(fig, msg) {\n",
       "    var format_dropdown = fig.format_dropdown;\n",
       "    var format = format_dropdown.options[format_dropdown.selectedIndex].value;\n",
       "    fig.ondownload(fig, format);\n",
       "}\n",
       "\n",
       "\n",
       "mpl.figure.prototype.handle_resize = function(fig, msg) {\n",
       "    var size = msg['size'];\n",
       "    if (size[0] != fig.canvas.width || size[1] != fig.canvas.height) {\n",
       "        fig._resize_canvas(size[0], size[1]);\n",
       "        fig.send_message(\"refresh\", {});\n",
       "    };\n",
       "}\n",
       "\n",
       "mpl.figure.prototype.handle_rubberband = function(fig, msg) {\n",
       "    var x0 = msg['x0'] / mpl.ratio;\n",
       "    var y0 = (fig.canvas.height - msg['y0']) / mpl.ratio;\n",
       "    var x1 = msg['x1'] / mpl.ratio;\n",
       "    var y1 = (fig.canvas.height - msg['y1']) / mpl.ratio;\n",
       "    x0 = Math.floor(x0) + 0.5;\n",
       "    y0 = Math.floor(y0) + 0.5;\n",
       "    x1 = Math.floor(x1) + 0.5;\n",
       "    y1 = Math.floor(y1) + 0.5;\n",
       "    var min_x = Math.min(x0, x1);\n",
       "    var min_y = Math.min(y0, y1);\n",
       "    var width = Math.abs(x1 - x0);\n",
       "    var height = Math.abs(y1 - y0);\n",
       "\n",
       "    fig.rubberband_context.clearRect(\n",
       "        0, 0, fig.canvas.width, fig.canvas.height);\n",
       "\n",
       "    fig.rubberband_context.strokeRect(min_x, min_y, width, height);\n",
       "}\n",
       "\n",
       "mpl.figure.prototype.handle_figure_label = function(fig, msg) {\n",
       "    // Updates the figure title.\n",
       "    fig.header.textContent = msg['label'];\n",
       "}\n",
       "\n",
       "mpl.figure.prototype.handle_cursor = function(fig, msg) {\n",
       "    var cursor = msg['cursor'];\n",
       "    switch(cursor)\n",
       "    {\n",
       "    case 0:\n",
       "        cursor = 'pointer';\n",
       "        break;\n",
       "    case 1:\n",
       "        cursor = 'default';\n",
       "        break;\n",
       "    case 2:\n",
       "        cursor = 'crosshair';\n",
       "        break;\n",
       "    case 3:\n",
       "        cursor = 'move';\n",
       "        break;\n",
       "    }\n",
       "    fig.rubberband_canvas.style.cursor = cursor;\n",
       "}\n",
       "\n",
       "mpl.figure.prototype.handle_message = function(fig, msg) {\n",
       "    fig.message.textContent = msg['message'];\n",
       "}\n",
       "\n",
       "mpl.figure.prototype.handle_draw = function(fig, msg) {\n",
       "    // Request the server to send over a new figure.\n",
       "    fig.send_draw_message();\n",
       "}\n",
       "\n",
       "mpl.figure.prototype.handle_image_mode = function(fig, msg) {\n",
       "    fig.image_mode = msg['mode'];\n",
       "}\n",
       "\n",
       "mpl.figure.prototype.updated_canvas_event = function() {\n",
       "    // Called whenever the canvas gets updated.\n",
       "    this.send_message(\"ack\", {});\n",
       "}\n",
       "\n",
       "// A function to construct a web socket function for onmessage handling.\n",
       "// Called in the figure constructor.\n",
       "mpl.figure.prototype._make_on_message_function = function(fig) {\n",
       "    return function socket_on_message(evt) {\n",
       "        if (evt.data instanceof Blob) {\n",
       "            /* FIXME: We get \"Resource interpreted as Image but\n",
       "             * transferred with MIME type text/plain:\" errors on\n",
       "             * Chrome.  But how to set the MIME type?  It doesn't seem\n",
       "             * to be part of the websocket stream */\n",
       "            evt.data.type = \"image/png\";\n",
       "\n",
       "            /* Free the memory for the previous frames */\n",
       "            if (fig.imageObj.src) {\n",
       "                (window.URL || window.webkitURL).revokeObjectURL(\n",
       "                    fig.imageObj.src);\n",
       "            }\n",
       "\n",
       "            fig.imageObj.src = (window.URL || window.webkitURL).createObjectURL(\n",
       "                evt.data);\n",
       "            fig.updated_canvas_event();\n",
       "            fig.waiting = false;\n",
       "            return;\n",
       "        }\n",
       "        else if (typeof evt.data === 'string' && evt.data.slice(0, 21) == \"data:image/png;base64\") {\n",
       "            fig.imageObj.src = evt.data;\n",
       "            fig.updated_canvas_event();\n",
       "            fig.waiting = false;\n",
       "            return;\n",
       "        }\n",
       "\n",
       "        var msg = JSON.parse(evt.data);\n",
       "        var msg_type = msg['type'];\n",
       "\n",
       "        // Call the  \"handle_{type}\" callback, which takes\n",
       "        // the figure and JSON message as its only arguments.\n",
       "        try {\n",
       "            var callback = fig[\"handle_\" + msg_type];\n",
       "        } catch (e) {\n",
       "            console.log(\"No handler for the '\" + msg_type + \"' message type: \", msg);\n",
       "            return;\n",
       "        }\n",
       "\n",
       "        if (callback) {\n",
       "            try {\n",
       "                // console.log(\"Handling '\" + msg_type + \"' message: \", msg);\n",
       "                callback(fig, msg);\n",
       "            } catch (e) {\n",
       "                console.log(\"Exception inside the 'handler_\" + msg_type + \"' callback:\", e, e.stack, msg);\n",
       "            }\n",
       "        }\n",
       "    };\n",
       "}\n",
       "\n",
       "// from http://stackoverflow.com/questions/1114465/getting-mouse-location-in-canvas\n",
       "mpl.findpos = function(e) {\n",
       "    //this section is from http://www.quirksmode.org/js/events_properties.html\n",
       "    var targ;\n",
       "    if (!e)\n",
       "        e = window.event;\n",
       "    if (e.target)\n",
       "        targ = e.target;\n",
       "    else if (e.srcElement)\n",
       "        targ = e.srcElement;\n",
       "    if (targ.nodeType == 3) // defeat Safari bug\n",
       "        targ = targ.parentNode;\n",
       "\n",
       "    // jQuery normalizes the pageX and pageY\n",
       "    // pageX,Y are the mouse positions relative to the document\n",
       "    // offset() returns the position of the element relative to the document\n",
       "    var x = e.pageX - $(targ).offset().left;\n",
       "    var y = e.pageY - $(targ).offset().top;\n",
       "\n",
       "    return {\"x\": x, \"y\": y};\n",
       "};\n",
       "\n",
       "/*\n",
       " * return a copy of an object with only non-object keys\n",
       " * we need this to avoid circular references\n",
       " * http://stackoverflow.com/a/24161582/3208463\n",
       " */\n",
       "function simpleKeys (original) {\n",
       "  return Object.keys(original).reduce(function (obj, key) {\n",
       "    if (typeof original[key] !== 'object')\n",
       "        obj[key] = original[key]\n",
       "    return obj;\n",
       "  }, {});\n",
       "}\n",
       "\n",
       "mpl.figure.prototype.mouse_event = function(event, name) {\n",
       "    var canvas_pos = mpl.findpos(event)\n",
       "\n",
       "    if (name === 'button_press')\n",
       "    {\n",
       "        this.canvas.focus();\n",
       "        this.canvas_div.focus();\n",
       "    }\n",
       "\n",
       "    var x = canvas_pos.x * mpl.ratio;\n",
       "    var y = canvas_pos.y * mpl.ratio;\n",
       "\n",
       "    this.send_message(name, {x: x, y: y, button: event.button,\n",
       "                             step: event.step,\n",
       "                             guiEvent: simpleKeys(event)});\n",
       "\n",
       "    /* This prevents the web browser from automatically changing to\n",
       "     * the text insertion cursor when the button is pressed.  We want\n",
       "     * to control all of the cursor setting manually through the\n",
       "     * 'cursor' event from matplotlib */\n",
       "    event.preventDefault();\n",
       "    return false;\n",
       "}\n",
       "\n",
       "mpl.figure.prototype._key_event_extra = function(event, name) {\n",
       "    // Handle any extra behaviour associated with a key event\n",
       "}\n",
       "\n",
       "mpl.figure.prototype.key_event = function(event, name) {\n",
       "\n",
       "    // Prevent repeat events\n",
       "    if (name == 'key_press')\n",
       "    {\n",
       "        if (event.which === this._key)\n",
       "            return;\n",
       "        else\n",
       "            this._key = event.which;\n",
       "    }\n",
       "    if (name == 'key_release')\n",
       "        this._key = null;\n",
       "\n",
       "    var value = '';\n",
       "    if (event.ctrlKey && event.which != 17)\n",
       "        value += \"ctrl+\";\n",
       "    if (event.altKey && event.which != 18)\n",
       "        value += \"alt+\";\n",
       "    if (event.shiftKey && event.which != 16)\n",
       "        value += \"shift+\";\n",
       "\n",
       "    value += 'k';\n",
       "    value += event.which.toString();\n",
       "\n",
       "    this._key_event_extra(event, name);\n",
       "\n",
       "    this.send_message(name, {key: value,\n",
       "                             guiEvent: simpleKeys(event)});\n",
       "    return false;\n",
       "}\n",
       "\n",
       "mpl.figure.prototype.toolbar_button_onclick = function(name) {\n",
       "    if (name == 'download') {\n",
       "        this.handle_save(this, null);\n",
       "    } else {\n",
       "        this.send_message(\"toolbar_button\", {name: name});\n",
       "    }\n",
       "};\n",
       "\n",
       "mpl.figure.prototype.toolbar_button_onmouseover = function(tooltip) {\n",
       "    this.message.textContent = tooltip;\n",
       "};\n",
       "mpl.toolbar_items = [[\"Home\", \"Reset original view\", \"fa fa-home icon-home\", \"home\"], [\"Back\", \"Back to  previous view\", \"fa fa-arrow-left icon-arrow-left\", \"back\"], [\"Forward\", \"Forward to next view\", \"fa fa-arrow-right icon-arrow-right\", \"forward\"], [\"\", \"\", \"\", \"\"], [\"Pan\", \"Pan axes with left mouse, zoom with right\", \"fa fa-arrows icon-move\", \"pan\"], [\"Zoom\", \"Zoom to rectangle\", \"fa fa-square-o icon-check-empty\", \"zoom\"], [\"\", \"\", \"\", \"\"], [\"Download\", \"Download plot\", \"fa fa-floppy-o icon-save\", \"download\"]];\n",
       "\n",
       "mpl.extensions = [\"eps\", \"jpeg\", \"pdf\", \"png\", \"ps\", \"raw\", \"svg\", \"tif\"];\n",
       "\n",
       "mpl.default_extension = \"png\";var comm_websocket_adapter = function(comm) {\n",
       "    // Create a \"websocket\"-like object which calls the given IPython comm\n",
       "    // object with the appropriate methods. Currently this is a non binary\n",
       "    // socket, so there is still some room for performance tuning.\n",
       "    var ws = {};\n",
       "\n",
       "    ws.close = function() {\n",
       "        comm.close()\n",
       "    };\n",
       "    ws.send = function(m) {\n",
       "        //console.log('sending', m);\n",
       "        comm.send(m);\n",
       "    };\n",
       "    // Register the callback with on_msg.\n",
       "    comm.on_msg(function(msg) {\n",
       "        //console.log('receiving', msg['content']['data'], msg);\n",
       "        // Pass the mpl event to the overriden (by mpl) onmessage function.\n",
       "        ws.onmessage(msg['content']['data'])\n",
       "    });\n",
       "    return ws;\n",
       "}\n",
       "\n",
       "mpl.mpl_figure_comm = function(comm, msg) {\n",
       "    // This is the function which gets called when the mpl process\n",
       "    // starts-up an IPython Comm through the \"matplotlib\" channel.\n",
       "\n",
       "    var id = msg.content.data.id;\n",
       "    // Get hold of the div created by the display call when the Comm\n",
       "    // socket was opened in Python.\n",
       "    var element = $(\"#\" + id);\n",
       "    var ws_proxy = comm_websocket_adapter(comm)\n",
       "\n",
       "    function ondownload(figure, format) {\n",
       "        window.open(figure.imageObj.src);\n",
       "    }\n",
       "\n",
       "    var fig = new mpl.figure(id, ws_proxy,\n",
       "                           ondownload,\n",
       "                           element.get(0));\n",
       "\n",
       "    // Call onopen now - mpl needs it, as it is assuming we've passed it a real\n",
       "    // web socket which is closed, not our websocket->open comm proxy.\n",
       "    ws_proxy.onopen();\n",
       "\n",
       "    fig.parent_element = element.get(0);\n",
       "    fig.cell_info = mpl.find_output_cell(\"<div id='\" + id + \"'></div>\");\n",
       "    if (!fig.cell_info) {\n",
       "        console.error(\"Failed to find cell for figure\", id, fig);\n",
       "        return;\n",
       "    }\n",
       "\n",
       "    var output_index = fig.cell_info[2]\n",
       "    var cell = fig.cell_info[0];\n",
       "\n",
       "};\n",
       "\n",
       "mpl.figure.prototype.handle_close = function(fig, msg) {\n",
       "    var width = fig.canvas.width/mpl.ratio\n",
       "    fig.root.unbind('remove')\n",
       "\n",
       "    // Update the output cell to use the data from the current canvas.\n",
       "    fig.push_to_output();\n",
       "    var dataURL = fig.canvas.toDataURL();\n",
       "    // Re-enable the keyboard manager in IPython - without this line, in FF,\n",
       "    // the notebook keyboard shortcuts fail.\n",
       "    IPython.keyboard_manager.enable()\n",
       "    $(fig.parent_element).html('<img src=\"' + dataURL + '\" width=\"' + width + '\">');\n",
       "    fig.close_ws(fig, msg);\n",
       "}\n",
       "\n",
       "mpl.figure.prototype.close_ws = function(fig, msg){\n",
       "    fig.send_message('closing', msg);\n",
       "    // fig.ws.close()\n",
       "}\n",
       "\n",
       "mpl.figure.prototype.push_to_output = function(remove_interactive) {\n",
       "    // Turn the data on the canvas into data in the output cell.\n",
       "    var width = this.canvas.width/mpl.ratio\n",
       "    var dataURL = this.canvas.toDataURL();\n",
       "    this.cell_info[1]['text/html'] = '<img src=\"' + dataURL + '\" width=\"' + width + '\">';\n",
       "}\n",
       "\n",
       "mpl.figure.prototype.updated_canvas_event = function() {\n",
       "    // Tell IPython that the notebook contents must change.\n",
       "    IPython.notebook.set_dirty(true);\n",
       "    this.send_message(\"ack\", {});\n",
       "    var fig = this;\n",
       "    // Wait a second, then push the new image to the DOM so\n",
       "    // that it is saved nicely (might be nice to debounce this).\n",
       "    setTimeout(function () { fig.push_to_output() }, 1000);\n",
       "}\n",
       "\n",
       "mpl.figure.prototype._init_toolbar = function() {\n",
       "    var fig = this;\n",
       "\n",
       "    var nav_element = $('<div/>')\n",
       "    nav_element.attr('style', 'width: 100%');\n",
       "    this.root.append(nav_element);\n",
       "\n",
       "    // Define a callback function for later on.\n",
       "    function toolbar_event(event) {\n",
       "        return fig.toolbar_button_onclick(event['data']);\n",
       "    }\n",
       "    function toolbar_mouse_event(event) {\n",
       "        return fig.toolbar_button_onmouseover(event['data']);\n",
       "    }\n",
       "\n",
       "    for(var toolbar_ind in mpl.toolbar_items){\n",
       "        var name = mpl.toolbar_items[toolbar_ind][0];\n",
       "        var tooltip = mpl.toolbar_items[toolbar_ind][1];\n",
       "        var image = mpl.toolbar_items[toolbar_ind][2];\n",
       "        var method_name = mpl.toolbar_items[toolbar_ind][3];\n",
       "\n",
       "        if (!name) { continue; };\n",
       "\n",
       "        var button = $('<button class=\"btn btn-default\" href=\"#\" title=\"' + name + '\"><i class=\"fa ' + image + ' fa-lg\"></i></button>');\n",
       "        button.click(method_name, toolbar_event);\n",
       "        button.mouseover(tooltip, toolbar_mouse_event);\n",
       "        nav_element.append(button);\n",
       "    }\n",
       "\n",
       "    // Add the status bar.\n",
       "    var status_bar = $('<span class=\"mpl-message\" style=\"text-align:right; float: right;\"/>');\n",
       "    nav_element.append(status_bar);\n",
       "    this.message = status_bar[0];\n",
       "\n",
       "    // Add the close button to the window.\n",
       "    var buttongrp = $('<div class=\"btn-group inline pull-right\"></div>');\n",
       "    var button = $('<button class=\"btn btn-mini btn-primary\" href=\"#\" title=\"Stop Interaction\"><i class=\"fa fa-power-off icon-remove icon-large\"></i></button>');\n",
       "    button.click(function (evt) { fig.handle_close(fig, {}); } );\n",
       "    button.mouseover('Stop Interaction', toolbar_mouse_event);\n",
       "    buttongrp.append(button);\n",
       "    var titlebar = this.root.find($('.ui-dialog-titlebar'));\n",
       "    titlebar.prepend(buttongrp);\n",
       "}\n",
       "\n",
       "mpl.figure.prototype._root_extra_style = function(el){\n",
       "    var fig = this\n",
       "    el.on(\"remove\", function(){\n",
       "\tfig.close_ws(fig, {});\n",
       "    });\n",
       "}\n",
       "\n",
       "mpl.figure.prototype._canvas_extra_style = function(el){\n",
       "    // this is important to make the div 'focusable\n",
       "    el.attr('tabindex', 0)\n",
       "    // reach out to IPython and tell the keyboard manager to turn it's self\n",
       "    // off when our div gets focus\n",
       "\n",
       "    // location in version 3\n",
       "    if (IPython.notebook.keyboard_manager) {\n",
       "        IPython.notebook.keyboard_manager.register_events(el);\n",
       "    }\n",
       "    else {\n",
       "        // location in version 2\n",
       "        IPython.keyboard_manager.register_events(el);\n",
       "    }\n",
       "\n",
       "}\n",
       "\n",
       "mpl.figure.prototype._key_event_extra = function(event, name) {\n",
       "    var manager = IPython.notebook.keyboard_manager;\n",
       "    if (!manager)\n",
       "        manager = IPython.keyboard_manager;\n",
       "\n",
       "    // Check for shift+enter\n",
       "    if (event.shiftKey && event.which == 13) {\n",
       "        this.canvas_div.blur();\n",
       "        // select the cell after this one\n",
       "        var index = IPython.notebook.find_cell_index(this.cell_info[0]);\n",
       "        IPython.notebook.select(index + 1);\n",
       "    }\n",
       "}\n",
       "\n",
       "mpl.figure.prototype.handle_save = function(fig, msg) {\n",
       "    fig.ondownload(fig, null);\n",
       "}\n",
       "\n",
       "\n",
       "mpl.find_output_cell = function(html_output) {\n",
       "    // Return the cell and output element which can be found *uniquely* in the notebook.\n",
       "    // Note - this is a bit hacky, but it is done because the \"notebook_saving.Notebook\"\n",
       "    // IPython event is triggered only after the cells have been serialised, which for\n",
       "    // our purposes (turning an active figure into a static one), is too late.\n",
       "    var cells = IPython.notebook.get_cells();\n",
       "    var ncells = cells.length;\n",
       "    for (var i=0; i<ncells; i++) {\n",
       "        var cell = cells[i];\n",
       "        if (cell.cell_type === 'code'){\n",
       "            for (var j=0; j<cell.output_area.outputs.length; j++) {\n",
       "                var data = cell.output_area.outputs[j];\n",
       "                if (data.data) {\n",
       "                    // IPython >= 3 moved mimebundle to data attribute of output\n",
       "                    data = data.data;\n",
       "                }\n",
       "                if (data['text/html'] == html_output) {\n",
       "                    return [cell, data, j];\n",
       "                }\n",
       "            }\n",
       "        }\n",
       "    }\n",
       "}\n",
       "\n",
       "// Register the function which deals with the matplotlib target/channel.\n",
       "// The kernel may be null if the page has been refreshed.\n",
       "if (IPython.notebook.kernel != null) {\n",
       "    IPython.notebook.kernel.comm_manager.register_target('matplotlib', mpl.mpl_figure_comm);\n",
       "}\n"
      ],
      "text/plain": [
       "<IPython.core.display.Javascript object>"
      ]
     },
     "metadata": {},
     "output_type": "display_data"
    },
    {
     "data": {
      "text/html": [
       "<img src=\"data:image/png;base64,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\" width=\"640\">"
      ],
      "text/plain": [
       "<IPython.core.display.HTML object>"
      ]
     },
     "metadata": {},
     "output_type": "display_data"
    }
   ],
   "source": [
    "if(data_to_use == 1):\n",
    "    from sklearn.metrics import precision_recall_curve\n",
    "    import matplotlib.pyplot as plt\n",
    "\n",
    "    precision, recall, _ = precision_recall_curve(y_test, y_predicted)\n",
    "\n",
    "    plt.step(recall, precision, color='b', alpha=0.2,\n",
    "             where='post')\n",
    "    plt.fill_between(recall, precision, step='post', alpha=0.2,\n",
    "                     color='b')\n",
    "\n",
    "    plt.xlabel('Recall')\n",
    "    plt.ylabel('Precision')\n",
    "    plt.ylim([0.0, 1.05])\n",
    "    plt.xlim([0.0, 1.0])\n",
    "    plt.title('2-class Precision-Recall curve: AP={0:0.2f}'.format(\n",
    "              average_precision))"
   ]
  },
  {
   "cell_type": "markdown",
   "metadata": {},
   "source": [
    "## Naive Bayes Classifier"
   ]
  },
  {
   "cell_type": "code",
   "execution_count": 70,
   "metadata": {
    "collapsed": false
   },
   "outputs": [
    {
     "name": "stdout",
     "output_type": "stream",
     "text": [
      "0.05024266242980957\n",
      "Accuracy of GaussianNB classifier on training set: 0.540850\n",
      "Accuracy of GaussianNB classifier on test set: 0.543130\n"
     ]
    }
   ],
   "source": [
    "from sklearn.naive_bayes import GaussianNB\n",
    "start = time.time()\n",
    "nbclf = GaussianNB().fit(X_train, y_train)\n",
    "end = time.time()\n",
    "print(end - start)\n",
    "print('Accuracy of GaussianNB classifier on training set: {:.6f}'\n",
    "     .format(nbclf.score(X_train, y_train)))\n",
    "print('Accuracy of GaussianNB classifier on test set: {:.6f}'\n",
    "     .format(nbclf.score(X_test, y_test)))\n",
    "# y_train.shape"
   ]
  },
  {
   "cell_type": "code",
   "execution_count": 71,
   "metadata": {
    "collapsed": true
   },
   "outputs": [],
   "source": [
    "y_predicted = nbclf.predict(X_test)"
   ]
  },
  {
   "cell_type": "markdown",
   "metadata": {},
   "source": [
    "#### Creating Confusion Matrix and Measuring Prescision Recall"
   ]
  },
  {
   "cell_type": "code",
   "execution_count": 72,
   "metadata": {
    "collapsed": false
   },
   "outputs": [
    {
     "data": {
      "text/plain": [
       "array([[ 4368, 13510],\n",
       "       [ 2787, 15006]])"
      ]
     },
     "execution_count": 72,
     "metadata": {},
     "output_type": "execute_result"
    }
   ],
   "source": [
    "from sklearn.metrics import confusion_matrix\n",
    "confusion = confusion_matrix(y_test, y_predicted)\n",
    "confusion"
   ]
  },
  {
   "cell_type": "code",
   "execution_count": 73,
   "metadata": {
    "collapsed": false
   },
   "outputs": [
    {
     "name": "stdout",
     "output_type": "stream",
     "text": [
      "Average precision-recall score: 0.72\n",
      "Recall score: 0.84\n",
      "Precision score: 0.53\n"
     ]
    }
   ],
   "source": [
    "from sklearn.metrics import average_precision_score\n",
    "from sklearn.metrics import recall_score\n",
    "from sklearn.metrics import precision_score\n",
    "\n",
    "average_precision = average_precision_score(y_test, y_predicted)\n",
    "recall_sco=recall_score(y_test,y_predicted)\n",
    "precision_sco=precision_score(y_test,y_predicted)\n",
    "\n",
    "print('Average precision-recall score: {0:0.2f}'.format(average_precision))\n",
    "print('Recall score: {0:0.2f}'.format(recall_sco))\n",
    "print('Precision score: {0:0.2f}'.format(precision_sco))"
   ]
  },
  {
   "cell_type": "markdown",
   "metadata": {},
   "source": [
    "## Gradient Boosting Classifier"
   ]
  },
  {
   "cell_type": "code",
   "execution_count": 74,
   "metadata": {
    "collapsed": false
   },
   "outputs": [
    {
     "name": "stdout",
     "output_type": "stream",
     "text": [
      "13.012821674346924\n",
      "Accuracy of GBDT classifier on training set: 0.700976\n",
      "Accuracy of GBDT classifier on test set: 0.692888\n"
     ]
    }
   ],
   "source": [
    "from sklearn.ensemble import GradientBoostingClassifier\n",
    "\n",
    "start = time.time()\n",
    "gbc = GradientBoostingClassifier().fit(X_train, y_train)\n",
    "end = time.time()\n",
    "print(end - start)\n",
    "\n",
    "print('Accuracy of GBDT classifier on training set: {:.6f}'\n",
    "     .format(gbc.score(X_train, y_train)))\n",
    "print('Accuracy of GBDT classifier on test set: {:.6f}'\n",
    "     .format(gbc.score(X_test, y_test)))"
   ]
  },
  {
   "cell_type": "code",
   "execution_count": 75,
   "metadata": {
    "collapsed": true
   },
   "outputs": [],
   "source": [
    "y_predicted = gbc.predict(X_test)"
   ]
  },
  {
   "cell_type": "markdown",
   "metadata": {},
   "source": [
    "#### Creating Confusion Matrix and Measuring Prescision Recall"
   ]
  },
  {
   "cell_type": "code",
   "execution_count": 76,
   "metadata": {
    "collapsed": false
   },
   "outputs": [
    {
     "data": {
      "text/plain": [
       "array([[12064,  5814],\n",
       "       [ 5141, 12652]])"
      ]
     },
     "execution_count": 76,
     "metadata": {},
     "output_type": "execute_result"
    }
   ],
   "source": [
    "from sklearn.metrics import confusion_matrix\n",
    "confusion = confusion_matrix(y_test, y_predicted)\n",
    "confusion"
   ]
  },
  {
   "cell_type": "code",
   "execution_count": 77,
   "metadata": {
    "collapsed": false
   },
   "outputs": [
    {
     "name": "stdout",
     "output_type": "stream",
     "text": [
      "Average precision-recall score: 0.77\n",
      "Recall score: 0.71\n",
      "Precision score: 0.69\n"
     ]
    }
   ],
   "source": [
    "from sklearn.metrics import average_precision_score\n",
    "from sklearn.metrics import recall_score\n",
    "from sklearn.metrics import precision_score\n",
    "\n",
    "average_precision = average_precision_score(y_test, y_predicted)\n",
    "recall_sco=recall_score(y_test,y_predicted)\n",
    "precision_sco=precision_score(y_test,y_predicted)\n",
    "\n",
    "print('Average precision-recall score: {0:0.2f}'.format(average_precision))\n",
    "print('Recall score: {0:0.2f}'.format(recall_sco))\n",
    "print('Precision score: {0:0.2f}'.format(precision_sco))"
   ]
  },
  {
   "cell_type": "markdown",
   "metadata": {},
   "source": [
    "## Neural Network Classifier"
   ]
  },
  {
   "cell_type": "code",
   "execution_count": 78,
   "metadata": {
    "collapsed": false
   },
   "outputs": [
    {
     "ename": "ImportError",
     "evalue": "cannot import name 'MLPClassifier'",
     "output_type": "error",
     "traceback": [
      "\u001b[0;31m---------------------------------------------------------------------------\u001b[0m",
      "\u001b[0;31mImportError\u001b[0m                               Traceback (most recent call last)",
      "\u001b[0;32m<ipython-input-78-6f12433ef184>\u001b[0m in \u001b[0;36m<module>\u001b[0;34m()\u001b[0m\n\u001b[0;32m----> 1\u001b[0;31m \u001b[0;32mfrom\u001b[0m \u001b[0msklearn\u001b[0m\u001b[0;34m.\u001b[0m\u001b[0mneural_network\u001b[0m \u001b[0;32mimport\u001b[0m \u001b[0mMLPClassifier\u001b[0m\u001b[0;34m\u001b[0m\u001b[0m\n\u001b[0m\u001b[1;32m      2\u001b[0m \u001b[0;32mfrom\u001b[0m \u001b[0msklearn\u001b[0m\u001b[0;34m.\u001b[0m\u001b[0mpreprocessing\u001b[0m \u001b[0;32mimport\u001b[0m \u001b[0mMinMaxScaler\u001b[0m\u001b[0;34m\u001b[0m\u001b[0m\n\u001b[1;32m      3\u001b[0m \u001b[0mscaler\u001b[0m \u001b[0;34m=\u001b[0m \u001b[0mMinMaxScaler\u001b[0m\u001b[0;34m(\u001b[0m\u001b[0;34m)\u001b[0m\u001b[0;34m\u001b[0m\u001b[0m\n\u001b[1;32m      4\u001b[0m \u001b[0mX_train_scaled\u001b[0m \u001b[0;34m=\u001b[0m \u001b[0mscaler\u001b[0m\u001b[0;34m.\u001b[0m\u001b[0mfit_transform\u001b[0m\u001b[0;34m(\u001b[0m\u001b[0mX_train\u001b[0m\u001b[0;34m)\u001b[0m\u001b[0;34m\u001b[0m\u001b[0m\n\u001b[1;32m      5\u001b[0m \u001b[0mX_test_scaled\u001b[0m \u001b[0;34m=\u001b[0m \u001b[0mscaler\u001b[0m\u001b[0;34m.\u001b[0m\u001b[0mtransform\u001b[0m\u001b[0;34m(\u001b[0m\u001b[0mX_test\u001b[0m\u001b[0;34m)\u001b[0m\u001b[0;34m\u001b[0m\u001b[0m\n",
      "\u001b[0;31mImportError\u001b[0m: cannot import name 'MLPClassifier'"
     ]
    }
   ],
   "source": [
    "from sklearn.neural_network import MLPClassifier\n",
    "from sklearn.preprocessing import MinMaxScaler\n",
    "scaler = MinMaxScaler()\n",
    "X_train_scaled = scaler.fit_transform(X_train)\n",
    "X_test_scaled = scaler.transform(X_test)\n",
    "\n",
    "start = time.time()\n",
    "nn = MLPClassifier(hidden_layer_sizes = [5,], alpha = 2,\n",
    "                   random_state = 4, solver='lbfgs').fit(X_train_scaled, y_train)\n",
    "end = time.time()\n",
    "print(end - start)\n",
    "\n",
    "print('Accuracy of NN classifier on training set: {:.6f}'\n",
    "     .format(nn.score(X_train_scaled, y_train)))\n",
    "print('Accuracy of NN classifier on test set: {:.6f}'\n",
    "     .format(nn.score(X_test_scaled, y_test)))"
   ]
  },
  {
   "cell_type": "code",
   "execution_count": null,
   "metadata": {
    "collapsed": false
   },
   "outputs": [],
   "source": [
    "y_predicted = nn.predict(X_test)\n",
    "y_predicted"
   ]
  },
  {
   "cell_type": "markdown",
   "metadata": {},
   "source": [
    "#### Creating Confusion Matrix and Measuring Prescision Recall"
   ]
  },
  {
   "cell_type": "code",
   "execution_count": null,
   "metadata": {
    "collapsed": false
   },
   "outputs": [],
   "source": [
    "from sklearn.metrics import confusion_matrix\n",
    "confusion = confusion_matrix(y_test, y_predicted)\n",
    "confusion"
   ]
  },
  {
   "cell_type": "code",
   "execution_count": null,
   "metadata": {
    "collapsed": false
   },
   "outputs": [],
   "source": [
    "from sklearn.metrics import average_precision_score\n",
    "from sklearn.metrics import recall_score\n",
    "from sklearn.metrics import precision_score\n",
    "\n",
    "average_precision = average_precision_score(y_test, y_predicted)\n",
    "recall_sco=recall_score(y_test,y_predicted)\n",
    "precision_sco=precision_score(y_test,y_predicted)\n",
    "\n",
    "print('Average precision-recall score: {0:0.2f}'.format(average_precision))\n",
    "print('Recall score: {0:0.2f}'.format(recall_sco))\n",
    "print('Precision score: {0:0.2f}'.format(precision_sco))"
   ]
  },
  {
   "cell_type": "code",
   "execution_count": null,
   "metadata": {
    "collapsed": true
   },
   "outputs": [],
   "source": []
  },
  {
   "cell_type": "code",
   "execution_count": null,
   "metadata": {
    "collapsed": true
   },
   "outputs": [],
   "source": []
  }
 ],
 "metadata": {
  "anaconda-cloud": {},
  "kernelspec": {
   "display_name": "Python [conda root]",
   "language": "python",
   "name": "conda-root-py"
  },
  "language_info": {
   "codemirror_mode": {
    "name": "ipython",
    "version": 3
   },
   "file_extension": ".py",
   "mimetype": "text/x-python",
   "name": "python",
   "nbconvert_exporter": "python",
   "pygments_lexer": "ipython3",
   "version": "3.5.2"
  }
 },
 "nbformat": 4,
 "nbformat_minor": 0
}
