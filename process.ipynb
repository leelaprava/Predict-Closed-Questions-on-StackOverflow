{
 "cells": [
  {
   "cell_type": "code",
   "execution_count": 1,
   "metadata": {
    "collapsed": false
   },
   "outputs": [],
   "source": [
    "import pandas as pd\n",
    "import numpy as np\n",
    "from multiprocessing import Pool"
   ]
  },
  {
   "cell_type": "code",
   "execution_count": 3,
   "metadata": {
    "collapsed": false
   },
   "outputs": [
    {
     "name": "stdout",
     "output_type": "stream",
     "text": [
      "CPU times: user 2 s, sys: 156 ms, total: 2.16 s\n",
      "Wall time: 3.33 s\n"
     ]
    }
   ],
   "source": [
    "%%time\n",
    "data=pd.DataFrame()\n",
    "data_input=pd.read_csv('data/train-sample_October_9_2012_v2.csv')"
   ]
  },
  {
   "cell_type": "code",
   "execution_count": 4,
   "metadata": {
    "collapsed": false
   },
   "outputs": [],
   "source": [
    "num_partitions = 12 #number of partitions to split dataframe\n",
    "num_cores = 12 #number of cores on your machine"
   ]
  },
  {
   "cell_type": "code",
   "execution_count": 5,
   "metadata": {
    "collapsed": false
   },
   "outputs": [],
   "source": [
    "def parallelize_dataframe(df, func):\n",
    "    df_split = np.array_split(df, num_partitions)\n",
    "    pool = Pool(num_cores)\n",
    "    df = np.concatenate(pool.map(func, df_split))\n",
    "    pool.close()\n",
    "    pool.join()\n",
    "    return df"
   ]
  },
  {
   "cell_type": "code",
   "execution_count": 6,
   "metadata": {
    "collapsed": false
   },
   "outputs": [],
   "source": [
    "def convert_string_to_date(data):\n",
    "    return pd.to_datetime(data)    "
   ]
  },
  {
   "cell_type": "code",
   "execution_count": 7,
   "metadata": {
    "collapsed": false
   },
   "outputs": [
    {
     "name": "stdout",
     "output_type": "stream",
     "text": [
      "CPU times: user 44 ms, sys: 68 ms, total: 112 ms\n",
      "Wall time: 5.19 s\n"
     ]
    }
   ],
   "source": [
    "%%time\n",
    "post_val=data_input['PostCreationDate'].values\n",
    "post_creation_date = parallelize_dataframe(post_val, convert_string_to_date)"
   ]
  },
  {
   "cell_type": "code",
   "execution_count": 8,
   "metadata": {
    "collapsed": false
   },
   "outputs": [
    {
     "name": "stdout",
     "output_type": "stream",
     "text": [
      "CPU times: user 44 ms, sys: 68 ms, total: 112 ms\n",
      "Wall time: 5.59 s\n"
     ]
    }
   ],
   "source": [
    "%%time\n",
    "owner_val=data_input['OwnerCreationDate'].values\n",
    "owner_creation_date = parallelize_dataframe(owner_val, convert_string_to_date)"
   ]
  },
  {
   "cell_type": "code",
   "execution_count": 9,
   "metadata": {
    "collapsed": false
   },
   "outputs": [],
   "source": [
    "data_input.drop('PostCreationDate',axis=1,inplace=True)"
   ]
  },
  {
   "cell_type": "code",
   "execution_count": 10,
   "metadata": {
    "collapsed": false
   },
   "outputs": [],
   "source": [
    "data_input.drop('OwnerCreationDate',axis=1,inplace=True)"
   ]
  },
  {
   "cell_type": "code",
   "execution_count": 11,
   "metadata": {
    "collapsed": false
   },
   "outputs": [],
   "source": [
    "owner_undeleted_questions=data_input['OwnerUndeletedAnswerCountAtPostTime'].values"
   ]
  },
  {
   "cell_type": "code",
   "execution_count": 12,
   "metadata": {
    "collapsed": true
   },
   "outputs": [],
   "source": [
    "reputation_at_creation=data_input['ReputationAtPostCreation'].values"
   ]
  },
  {
   "cell_type": "code",
   "execution_count": 13,
   "metadata": {
    "collapsed": true
   },
   "outputs": [],
   "source": [
    "data_input.drop('OwnerUndeletedAnswerCountAtPostTime',axis=1,inplace=True)\n",
    "data_input.drop('ReputationAtPostCreation',axis=1,inplace=True)"
   ]
  },
  {
   "cell_type": "code",
   "execution_count": 14,
   "metadata": {
    "collapsed": false
   },
   "outputs": [
    {
     "data": {
      "text/plain": [
       "(178352, 11)"
      ]
     },
     "execution_count": 14,
     "metadata": {},
     "output_type": "execute_result"
    }
   ],
   "source": [
    "data_input.shape"
   ]
  },
  {
   "cell_type": "code",
   "execution_count": 15,
   "metadata": {
    "collapsed": true
   },
   "outputs": [],
   "source": [
    "def bod_len(value):\n",
    "    if type(value) is str:\n",
    "        return len(value)\n",
    "    else:\n",
    "        return 0"
   ]
  },
  {
   "cell_type": "code",
   "execution_count": 16,
   "metadata": {
    "collapsed": false
   },
   "outputs": [
    {
     "name": "stdout",
     "output_type": "stream",
     "text": [
      "CPU times: user 120 ms, sys: 8 ms, total: 128 ms\n",
      "Wall time: 126 ms\n"
     ]
    }
   ],
   "source": [
    "%%time\n",
    "body_len=data_input[\"BodyMarkdown\"].apply(bod_len)"
   ]
  },
  {
   "cell_type": "code",
   "execution_count": null,
   "metadata": {
    "collapsed": false
   },
   "outputs": [],
   "source": []
  },
  {
   "cell_type": "code",
   "execution_count": 17,
   "metadata": {
    "collapsed": false
   },
   "outputs": [],
   "source": [
    "def is_code_supplied(body_text):\n",
    "    if type(body_text) is not str:\n",
    "        return 0\n",
    "\n",
    "    for line in body_text.split('\\n'):\n",
    "        if line.startswith('    '):\n",
    "            return 1\n",
    "    return 0       "
   ]
  },
  {
   "cell_type": "code",
   "execution_count": 18,
   "metadata": {
    "collapsed": false
   },
   "outputs": [
    {
     "name": "stdout",
     "output_type": "stream",
     "text": [
      "CPU times: user 696 ms, sys: 0 ns, total: 696 ms\n",
      "Wall time: 693 ms\n"
     ]
    }
   ],
   "source": [
    "%%time\n",
    "cod_exists=data_input[\"BodyMarkdown\"].apply(is_code_supplied)"
   ]
  },
  {
   "cell_type": "code",
   "execution_count": 19,
   "metadata": {
    "collapsed": false
   },
   "outputs": [],
   "source": [
    "def number_of_code_blocks(body_text):\n",
    "    if type(body_text) is not str:\n",
    "        return 0\n",
    "\n",
    "    in_code_block = False\n",
    "    code_blocks = 0\n",
    "    for line in body_text.split('\\n'):\n",
    "        if line.strip() == '':\n",
    "            continue\n",
    "        if in_code_block:\n",
    "            if line.startswith('    '):\n",
    "                continue\n",
    "            else:\n",
    "                in_code_block = False\n",
    "        else:\n",
    "            if line.startswith('    '):\n",
    "                in_code_block = True\n",
    "                code_blocks += 1\n",
    "            else:\n",
    "                continue\n",
    "    return code_blocks"
   ]
  },
  {
   "cell_type": "code",
   "execution_count": 20,
   "metadata": {
    "collapsed": false
   },
   "outputs": [
    {
     "name": "stdout",
     "output_type": "stream",
     "text": [
      "CPU times: user 1.5 s, sys: 0 ns, total: 1.5 s\n",
      "Wall time: 1.5 s\n"
     ]
    }
   ],
   "source": [
    "%%time\n",
    "num_code_blocks=data_input[\"BodyMarkdown\"].apply(number_of_code_blocks)"
   ]
  },
  {
   "cell_type": "code",
   "execution_count": 21,
   "metadata": {
    "collapsed": false
   },
   "outputs": [],
   "source": [
    "def no_of_lines(body_text):\n",
    "    if type(body_text) is not str:\n",
    "        return 0\n",
    "\n",
    "    lines_of_code = 0\n",
    "    for line in body_text.split('\\n'):\n",
    "        if line.startswith('    '):\n",
    "            lines_of_code += 1\n",
    "    return lines_of_code\n",
    "def no_of_words(body_text):\n",
    "    if type(body_text) is not str:\n",
    "        return 0\n",
    "        \n",
    "    words = 0        \n",
    "    for line in body_text.split('\\n'):\n",
    "        if line.startswith('    '):\n",
    "            continue\n",
    "        words += len(line.split(' '))\n",
    "    return words\n",
    "\n",
    "def code_ratio(body_text):\n",
    "    if type(body_text) is not str:\n",
    "        return 0\n",
    "    \n",
    "    lines_of_code = no_of_lines(body_text)\n",
    "    words = no_of_words(body_text)\n",
    "    return lines_of_code / (lines_of_code + (words / 7.0))"
   ]
  },
  {
   "cell_type": "code",
   "execution_count": 22,
   "metadata": {
    "collapsed": false
   },
   "outputs": [
    {
     "name": "stdout",
     "output_type": "stream",
     "text": [
      "CPU times: user 3.96 s, sys: 12 ms, total: 3.97 s\n",
      "Wall time: 3.97 s\n"
     ]
    }
   ],
   "source": [
    "%%time\n",
    "code_body=data_input[\"BodyMarkdown\"].apply(code_ratio)"
   ]
  },
  {
   "cell_type": "code",
   "execution_count": 23,
   "metadata": {
    "collapsed": true
   },
   "outputs": [],
   "source": [
    "def homework_in_title(row):\n",
    "    if 'homework' in row:\n",
    "        return 1\n",
    "    else :\n",
    "        return 0"
   ]
  },
  {
   "cell_type": "code",
   "execution_count": 24,
   "metadata": {
    "collapsed": false
   },
   "outputs": [
    {
     "name": "stdout",
     "output_type": "stream",
     "text": [
      "CPU times: user 80 ms, sys: 0 ns, total: 80 ms\n",
      "Wall time: 77 ms\n"
     ]
    }
   ],
   "source": [
    "%%time\n",
    "homework_title=data_input['Title'].apply(homework_in_title)"
   ]
  },
  {
   "cell_type": "code",
   "execution_count": 25,
   "metadata": {
    "collapsed": false
   },
   "outputs": [],
   "source": [
    "def homework_in_body(bodytext):\n",
    "    if 'homework' in bodytext:\n",
    "        return 1\n",
    "    else :\n",
    "        return 0"
   ]
  },
  {
   "cell_type": "code",
   "execution_count": 26,
   "metadata": {
    "collapsed": false
   },
   "outputs": [
    {
     "name": "stdout",
     "output_type": "stream",
     "text": [
      "CPU times: user 160 ms, sys: 0 ns, total: 160 ms\n",
      "Wall time: 162 ms\n"
     ]
    }
   ],
   "source": [
    "%%time\n",
    "homework_body=data_input['BodyMarkdown'].apply(homework_in_body)"
   ]
  },
  {
   "cell_type": "code",
   "execution_count": 27,
   "metadata": {
    "collapsed": false
   },
   "outputs": [],
   "source": [
    "data_input.drop('BodyMarkdown',axis=1,inplace=True)"
   ]
  },
  {
   "cell_type": "code",
   "execution_count": 28,
   "metadata": {
    "collapsed": true
   },
   "outputs": [],
   "source": [
    "data_input.drop('Title',axis=1,inplace=True)"
   ]
  },
  {
   "cell_type": "code",
   "execution_count": 29,
   "metadata": {
    "collapsed": false
   },
   "outputs": [
    {
     "data": {
      "text/html": [
       "<div>\n",
       "<table border=\"1\" class=\"dataframe\">\n",
       "  <thead>\n",
       "    <tr style=\"text-align: right;\">\n",
       "      <th></th>\n",
       "      <th>PostId</th>\n",
       "      <th>OwnerUserId</th>\n",
       "      <th>Tag1</th>\n",
       "      <th>Tag2</th>\n",
       "      <th>Tag3</th>\n",
       "      <th>Tag4</th>\n",
       "      <th>Tag5</th>\n",
       "      <th>PostClosedDate</th>\n",
       "      <th>OpenStatus</th>\n",
       "    </tr>\n",
       "  </thead>\n",
       "  <tbody>\n",
       "    <tr>\n",
       "      <th>0</th>\n",
       "      <td>10035653</td>\n",
       "      <td>1159226</td>\n",
       "      <td>c++</td>\n",
       "      <td>NaN</td>\n",
       "      <td>NaN</td>\n",
       "      <td>NaN</td>\n",
       "      <td>NaN</td>\n",
       "      <td>04/05/2012 23:31:34</td>\n",
       "      <td>too localized</td>\n",
       "    </tr>\n",
       "    <tr>\n",
       "      <th>1</th>\n",
       "      <td>8922537</td>\n",
       "      <td>1157921</td>\n",
       "      <td>php</td>\n",
       "      <td>xml</td>\n",
       "      <td>cakephp</td>\n",
       "      <td>zip</td>\n",
       "      <td>NaN</td>\n",
       "      <td>01/19/2012 16:43:00</td>\n",
       "      <td>not a real question</td>\n",
       "    </tr>\n",
       "    <tr>\n",
       "      <th>2</th>\n",
       "      <td>5962216</td>\n",
       "      <td>696219</td>\n",
       "      <td>iphone-sdk-4.0</td>\n",
       "      <td>NaN</td>\n",
       "      <td>NaN</td>\n",
       "      <td>NaN</td>\n",
       "      <td>NaN</td>\n",
       "      <td>NaN</td>\n",
       "      <td>open</td>\n",
       "    </tr>\n",
       "    <tr>\n",
       "      <th>3</th>\n",
       "      <td>10070625</td>\n",
       "      <td>490895</td>\n",
       "      <td>linux</td>\n",
       "      <td>module</td>\n",
       "      <td>kernel</td>\n",
       "      <td>NaN</td>\n",
       "      <td>NaN</td>\n",
       "      <td>NaN</td>\n",
       "      <td>open</td>\n",
       "    </tr>\n",
       "    <tr>\n",
       "      <th>4</th>\n",
       "      <td>8960935</td>\n",
       "      <td>1017103</td>\n",
       "      <td>mysql</td>\n",
       "      <td>limit</td>\n",
       "      <td>NaN</td>\n",
       "      <td>NaN</td>\n",
       "      <td>NaN</td>\n",
       "      <td>NaN</td>\n",
       "      <td>open</td>\n",
       "    </tr>\n",
       "  </tbody>\n",
       "</table>\n",
       "</div>"
      ],
      "text/plain": [
       "     PostId  OwnerUserId            Tag1    Tag2     Tag3 Tag4 Tag5  \\\n",
       "0  10035653      1159226             c++     NaN      NaN  NaN  NaN   \n",
       "1   8922537      1157921             php     xml  cakephp  zip  NaN   \n",
       "2   5962216       696219  iphone-sdk-4.0     NaN      NaN  NaN  NaN   \n",
       "3  10070625       490895           linux  module   kernel  NaN  NaN   \n",
       "4   8960935      1017103           mysql   limit      NaN  NaN  NaN   \n",
       "\n",
       "        PostClosedDate           OpenStatus  \n",
       "0  04/05/2012 23:31:34        too localized  \n",
       "1  01/19/2012 16:43:00  not a real question  \n",
       "2                  NaN                 open  \n",
       "3                  NaN                 open  \n",
       "4                  NaN                 open  "
      ]
     },
     "execution_count": 29,
     "metadata": {},
     "output_type": "execute_result"
    }
   ],
   "source": [
    "data_input.head()"
   ]
  },
  {
   "cell_type": "code",
   "execution_count": 30,
   "metadata": {
    "collapsed": true
   },
   "outputs": [],
   "source": [
    "status_bit = {\n",
    "    \"open\": 3,\n",
    "    \"not a real question\": 0,\n",
    "    \"off topic\": 2,\n",
    "    \"not constructive\": 1,\n",
    "    \"too localized\": 4\n",
    "}"
   ]
  },
  {
   "cell_type": "code",
   "execution_count": 31,
   "metadata": {
    "collapsed": true
   },
   "outputs": [],
   "source": [
    "def set_label(row):\n",
    "    return status_bit[row]"
   ]
  },
  {
   "cell_type": "code",
   "execution_count": 32,
   "metadata": {
    "collapsed": false
   },
   "outputs": [
    {
     "name": "stdout",
     "output_type": "stream",
     "text": [
      "CPU times: user 76 ms, sys: 0 ns, total: 76 ms\n",
      "Wall time: 74 ms\n"
     ]
    }
   ],
   "source": [
    "%%time\n",
    "set_label=data_input['OpenStatus'].apply(set_label)"
   ]
  },
  {
   "cell_type": "code",
   "execution_count": 33,
   "metadata": {
    "collapsed": false
   },
   "outputs": [],
   "source": [
    "data_input.drop('OpenStatus',axis=1,inplace=True)"
   ]
  },
  {
   "cell_type": "code",
   "execution_count": 34,
   "metadata": {
    "collapsed": false
   },
   "outputs": [],
   "source": [
    "def get_num_tags(row):\n",
    "    res_ar=[]\n",
    "    for x in row :\n",
    "        temp_count=0\n",
    "        for y in x:\n",
    "            if isinstance(y,type('str')):\n",
    "                temp_count=temp_count+1\n",
    "        res_ar.append(temp_count)\n",
    "    return res_ar"
   ]
  },
  {
   "cell_type": "code",
   "execution_count": 35,
   "metadata": {
    "collapsed": true
   },
   "outputs": [],
   "source": [
    "data_num_tags_temp=data_input[['Tag1','Tag2','Tag3','Tag4','Tag5']].values"
   ]
  },
  {
   "cell_type": "code",
   "execution_count": 36,
   "metadata": {
    "collapsed": false
   },
   "outputs": [
    {
     "name": "stdout",
     "output_type": "stream",
     "text": [
      "CPU times: user 100 ms, sys: 72 ms, total: 172 ms\n",
      "Wall time: 281 ms\n"
     ]
    }
   ],
   "source": [
    "%%time\n",
    "data_num_tags=parallelize_dataframe(data_num_tags_temp,get_num_tags)"
   ]
  },
  {
   "cell_type": "code",
   "execution_count": 37,
   "metadata": {
    "collapsed": false
   },
   "outputs": [],
   "source": [
    "def get_hw_tags_fun(row):\n",
    "    res_ar=[]\n",
    "    for x in row :\n",
    "        temp_count=0\n",
    "        flag=0\n",
    "        for y in x:\n",
    "            if isinstance(y,type('str')):\n",
    "                if y=='homework':\n",
    "                    flag=1\n",
    "        res_ar.append(flag)\n",
    "    return res_ar"
   ]
  },
  {
   "cell_type": "code",
   "execution_count": 38,
   "metadata": {
    "collapsed": false
   },
   "outputs": [
    {
     "name": "stdout",
     "output_type": "stream",
     "text": [
      "CPU times: user 108 ms, sys: 64 ms, total: 172 ms\n",
      "Wall time: 279 ms\n"
     ]
    }
   ],
   "source": [
    "%%time\n",
    "data_hw_tags=parallelize_dataframe(data_num_tags_temp,get_hw_tags_fun)"
   ]
  },
  {
   "cell_type": "code",
   "execution_count": 39,
   "metadata": {
    "collapsed": false
   },
   "outputs": [],
   "source": [
    "data_input=[]"
   ]
  },
  {
   "cell_type": "code",
   "execution_count": 40,
   "metadata": {
    "collapsed": false
   },
   "outputs": [
    {
     "name": "stdout",
     "output_type": "stream",
     "text": [
      "CPU times: user 6.8 s, sys: 36 ms, total: 6.84 s\n",
      "Wall time: 6.83 s\n"
     ]
    }
   ],
   "source": [
    "%%time\n",
    "day=[]\n",
    "month=[]\n",
    "year=[]\n",
    "for date_temp in post_creation_date:\n",
    "    date_1=pd.to_datetime(date_temp)\n",
    "    day.append(date_1.weekday())\n",
    "    month.append(date_1.month)\n",
    "    year.append(date_1.year)"
   ]
  },
  {
   "cell_type": "code",
   "execution_count": 41,
   "metadata": {
    "collapsed": false
   },
   "outputs": [
    {
     "name": "stdout",
     "output_type": "stream",
     "text": [
      "CPU times: user 792 ms, sys: 0 ns, total: 792 ms\n",
      "Wall time: 793 ms\n"
     ]
    }
   ],
   "source": [
    "%%time\n",
    "age=[]\n",
    "for f, b in zip(post_creation_date, owner_creation_date):\n",
    "    age.append((f-b)/np.timedelta64(1, 's'))"
   ]
  },
  {
   "cell_type": "code",
   "execution_count": 42,
   "metadata": {
    "collapsed": false
   },
   "outputs": [],
   "source": [
    "final=pd.DataFrame()"
   ]
  },
  {
   "cell_type": "code",
   "execution_count": 43,
   "metadata": {
    "collapsed": false
   },
   "outputs": [],
   "source": [
    "final['age']=age"
   ]
  },
  {
   "cell_type": "code",
   "execution_count": 44,
   "metadata": {
    "collapsed": false
   },
   "outputs": [],
   "source": [
    "final['day']=day"
   ]
  },
  {
   "cell_type": "code",
   "execution_count": 45,
   "metadata": {
    "collapsed": true
   },
   "outputs": [],
   "source": [
    "final['month']=month\n",
    "final['year']=year\n",
    "final['ownundel']=owner_undeleted_questions\n",
    "final['ownrep']=reputation_at_creation\n",
    "final['bodylen']=body_len\n",
    "final['codeexists']=cod_exists\n",
    "final['num_code']=num_code_blocks\n",
    "final['coderatio']=code_body\n",
    "final['hwtitle']=homework_title\n",
    "final['hwbody']=homework_body\n",
    "final['label']=set_label\n",
    "final['numtags']=data_num_tags\n",
    "final['hwtags']=data_hw_tags"
   ]
  },
  {
   "cell_type": "code",
   "execution_count": 46,
   "metadata": {
    "collapsed": false
   },
   "outputs": [
    {
     "data": {
      "text/html": [
       "<div>\n",
       "<table border=\"1\" class=\"dataframe\">\n",
       "  <thead>\n",
       "    <tr style=\"text-align: right;\">\n",
       "      <th></th>\n",
       "      <th>age</th>\n",
       "      <th>day</th>\n",
       "      <th>month</th>\n",
       "      <th>year</th>\n",
       "      <th>ownundel</th>\n",
       "      <th>ownrep</th>\n",
       "      <th>bodylen</th>\n",
       "      <th>codeexists</th>\n",
       "      <th>num_code</th>\n",
       "      <th>coderatio</th>\n",
       "      <th>hwtitle</th>\n",
       "      <th>hwbody</th>\n",
       "      <th>label</th>\n",
       "      <th>numtags</th>\n",
       "      <th>hwtags</th>\n",
       "    </tr>\n",
       "  </thead>\n",
       "  <tbody>\n",
       "    <tr>\n",
       "      <th>0</th>\n",
       "      <td>6659479.0</td>\n",
       "      <td>3</td>\n",
       "      <td>4</td>\n",
       "      <td>2012</td>\n",
       "      <td>0</td>\n",
       "      <td>1</td>\n",
       "      <td>1276</td>\n",
       "      <td>1</td>\n",
       "      <td>1</td>\n",
       "      <td>0.462264</td>\n",
       "      <td>0</td>\n",
       "      <td>0</td>\n",
       "      <td>4</td>\n",
       "      <td>1</td>\n",
       "      <td>0</td>\n",
       "    </tr>\n",
       "    <tr>\n",
       "      <th>1</th>\n",
       "      <td>413.0</td>\n",
       "      <td>3</td>\n",
       "      <td>1</td>\n",
       "      <td>2012</td>\n",
       "      <td>0</td>\n",
       "      <td>1</td>\n",
       "      <td>352</td>\n",
       "      <td>0</td>\n",
       "      <td>0</td>\n",
       "      <td>0.000000</td>\n",
       "      <td>0</td>\n",
       "      <td>0</td>\n",
       "      <td>0</td>\n",
       "      <td>4</td>\n",
       "      <td>0</td>\n",
       "    </tr>\n",
       "    <tr>\n",
       "      <th>2</th>\n",
       "      <td>2948660.0</td>\n",
       "      <td>2</td>\n",
       "      <td>5</td>\n",
       "      <td>2011</td>\n",
       "      <td>2</td>\n",
       "      <td>40</td>\n",
       "      <td>500</td>\n",
       "      <td>0</td>\n",
       "      <td>0</td>\n",
       "      <td>0.000000</td>\n",
       "      <td>0</td>\n",
       "      <td>0</td>\n",
       "      <td>3</td>\n",
       "      <td>1</td>\n",
       "      <td>0</td>\n",
       "    </tr>\n",
       "    <tr>\n",
       "      <th>3</th>\n",
       "      <td>45631059.0</td>\n",
       "      <td>0</td>\n",
       "      <td>4</td>\n",
       "      <td>2012</td>\n",
       "      <td>1</td>\n",
       "      <td>1</td>\n",
       "      <td>371</td>\n",
       "      <td>0</td>\n",
       "      <td>0</td>\n",
       "      <td>0.000000</td>\n",
       "      <td>0</td>\n",
       "      <td>0</td>\n",
       "      <td>3</td>\n",
       "      <td>3</td>\n",
       "      <td>0</td>\n",
       "    </tr>\n",
       "    <tr>\n",
       "      <th>4</th>\n",
       "      <td>7494233.0</td>\n",
       "      <td>6</td>\n",
       "      <td>1</td>\n",
       "      <td>2012</td>\n",
       "      <td>0</td>\n",
       "      <td>28</td>\n",
       "      <td>169</td>\n",
       "      <td>1</td>\n",
       "      <td>1</td>\n",
       "      <td>0.250000</td>\n",
       "      <td>0</td>\n",
       "      <td>0</td>\n",
       "      <td>3</td>\n",
       "      <td>2</td>\n",
       "      <td>0</td>\n",
       "    </tr>\n",
       "  </tbody>\n",
       "</table>\n",
       "</div>"
      ],
      "text/plain": [
       "          age  day  month  year  ownundel  ownrep  bodylen  codeexists  \\\n",
       "0   6659479.0    3      4  2012         0       1     1276           1   \n",
       "1       413.0    3      1  2012         0       1      352           0   \n",
       "2   2948660.0    2      5  2011         2      40      500           0   \n",
       "3  45631059.0    0      4  2012         1       1      371           0   \n",
       "4   7494233.0    6      1  2012         0      28      169           1   \n",
       "\n",
       "   num_code  coderatio  hwtitle  hwbody  label  numtags  hwtags  \n",
       "0         1   0.462264        0       0      4        1       0  \n",
       "1         0   0.000000        0       0      0        4       0  \n",
       "2         0   0.000000        0       0      3        1       0  \n",
       "3         0   0.000000        0       0      3        3       0  \n",
       "4         1   0.250000        0       0      3        2       0  "
      ]
     },
     "execution_count": 46,
     "metadata": {},
     "output_type": "execute_result"
    }
   ],
   "source": [
    "final.head()"
   ]
  },
  {
   "cell_type": "code",
   "execution_count": 47,
   "metadata": {
    "collapsed": true
   },
   "outputs": [],
   "source": [
    "final.to_csv('large_small.csv')"
   ]
  },
  {
   "cell_type": "code",
   "execution_count": null,
   "metadata": {
    "collapsed": true
   },
   "outputs": [],
   "source": []
  }
 ],
 "metadata": {
  "anaconda-cloud": {},
  "kernelspec": {
   "display_name": "Python [conda root]",
   "language": "python",
   "name": "conda-root-py"
  },
  "language_info": {
   "codemirror_mode": {
    "name": "ipython",
    "version": 3
   },
   "file_extension": ".py",
   "mimetype": "text/x-python",
   "name": "python",
   "nbconvert_exporter": "python",
   "pygments_lexer": "ipython3",
   "version": "3.5.2"
  }
 },
 "nbformat": 4,
 "nbformat_minor": 1
}
